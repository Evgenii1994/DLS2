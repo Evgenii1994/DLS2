{
  "nbformat": 4,
  "nbformat_minor": 0,
  "metadata": {
    "colab": {
      "provenance": [],
      "include_colab_link": true
    },
    "kernelspec": {
      "name": "python3",
      "display_name": "Python 3"
    },
    "language_info": {
      "name": "python"
    },
    "accelerator": "GPU",
    "gpuClass": "standard",
    "widgets": {
      "application/vnd.jupyter.widget-state+json": {
        "e6f58bb35b4346439255de263afa84ba": {
          "model_module": "@jupyter-widgets/controls",
          "model_name": "HBoxModel",
          "model_module_version": "1.5.0",
          "state": {
            "_dom_classes": [],
            "_model_module": "@jupyter-widgets/controls",
            "_model_module_version": "1.5.0",
            "_model_name": "HBoxModel",
            "_view_count": null,
            "_view_module": "@jupyter-widgets/controls",
            "_view_module_version": "1.5.0",
            "_view_name": "HBoxView",
            "box_style": "",
            "children": [
              "IPY_MODEL_1e6772194a1740e983cd5a94fdd6d76b",
              "IPY_MODEL_40143bfd209e42b3802560c843a92778",
              "IPY_MODEL_a9d389d901cf41e19144a92222b27ab4"
            ],
            "layout": "IPY_MODEL_5a8d81a73876498dba332eccd5c061d0"
          }
        },
        "1e6772194a1740e983cd5a94fdd6d76b": {
          "model_module": "@jupyter-widgets/controls",
          "model_name": "HTMLModel",
          "model_module_version": "1.5.0",
          "state": {
            "_dom_classes": [],
            "_model_module": "@jupyter-widgets/controls",
            "_model_module_version": "1.5.0",
            "_model_name": "HTMLModel",
            "_view_count": null,
            "_view_module": "@jupyter-widgets/controls",
            "_view_module_version": "1.5.0",
            "_view_name": "HTMLView",
            "description": "",
            "description_tooltip": null,
            "layout": "IPY_MODEL_acc411ddb88f42439f92b287a8b3b3ad",
            "placeholder": "​",
            "style": "IPY_MODEL_12ab5415809b4035a42cc69f822a7ec7",
            "value": "README.md: 100%"
          }
        },
        "40143bfd209e42b3802560c843a92778": {
          "model_module": "@jupyter-widgets/controls",
          "model_name": "FloatProgressModel",
          "model_module_version": "1.5.0",
          "state": {
            "_dom_classes": [],
            "_model_module": "@jupyter-widgets/controls",
            "_model_module_version": "1.5.0",
            "_model_name": "FloatProgressModel",
            "_view_count": null,
            "_view_module": "@jupyter-widgets/controls",
            "_view_module_version": "1.5.0",
            "_view_name": "ProgressView",
            "bar_style": "success",
            "description": "",
            "description_tooltip": null,
            "layout": "IPY_MODEL_129ab5b7a292400baaef518e9f2e48d1",
            "max": 8070,
            "min": 0,
            "orientation": "horizontal",
            "style": "IPY_MODEL_e856801b3a0e4227a3251c348a3c6ad4",
            "value": 8070
          }
        },
        "a9d389d901cf41e19144a92222b27ab4": {
          "model_module": "@jupyter-widgets/controls",
          "model_name": "HTMLModel",
          "model_module_version": "1.5.0",
          "state": {
            "_dom_classes": [],
            "_model_module": "@jupyter-widgets/controls",
            "_model_module_version": "1.5.0",
            "_model_name": "HTMLModel",
            "_view_count": null,
            "_view_module": "@jupyter-widgets/controls",
            "_view_module_version": "1.5.0",
            "_view_name": "HTMLView",
            "description": "",
            "description_tooltip": null,
            "layout": "IPY_MODEL_20d806e4504c4b3889c5f6f77f15de24",
            "placeholder": "​",
            "style": "IPY_MODEL_91d952e345cc4ba581e9b6e833ba0da1",
            "value": " 8.07k/8.07k [00:00&lt;00:00, 500kB/s]"
          }
        },
        "5a8d81a73876498dba332eccd5c061d0": {
          "model_module": "@jupyter-widgets/base",
          "model_name": "LayoutModel",
          "model_module_version": "1.2.0",
          "state": {
            "_model_module": "@jupyter-widgets/base",
            "_model_module_version": "1.2.0",
            "_model_name": "LayoutModel",
            "_view_count": null,
            "_view_module": "@jupyter-widgets/base",
            "_view_module_version": "1.2.0",
            "_view_name": "LayoutView",
            "align_content": null,
            "align_items": null,
            "align_self": null,
            "border": null,
            "bottom": null,
            "display": null,
            "flex": null,
            "flex_flow": null,
            "grid_area": null,
            "grid_auto_columns": null,
            "grid_auto_flow": null,
            "grid_auto_rows": null,
            "grid_column": null,
            "grid_gap": null,
            "grid_row": null,
            "grid_template_areas": null,
            "grid_template_columns": null,
            "grid_template_rows": null,
            "height": null,
            "justify_content": null,
            "justify_items": null,
            "left": null,
            "margin": null,
            "max_height": null,
            "max_width": null,
            "min_height": null,
            "min_width": null,
            "object_fit": null,
            "object_position": null,
            "order": null,
            "overflow": null,
            "overflow_x": null,
            "overflow_y": null,
            "padding": null,
            "right": null,
            "top": null,
            "visibility": null,
            "width": null
          }
        },
        "acc411ddb88f42439f92b287a8b3b3ad": {
          "model_module": "@jupyter-widgets/base",
          "model_name": "LayoutModel",
          "model_module_version": "1.2.0",
          "state": {
            "_model_module": "@jupyter-widgets/base",
            "_model_module_version": "1.2.0",
            "_model_name": "LayoutModel",
            "_view_count": null,
            "_view_module": "@jupyter-widgets/base",
            "_view_module_version": "1.2.0",
            "_view_name": "LayoutView",
            "align_content": null,
            "align_items": null,
            "align_self": null,
            "border": null,
            "bottom": null,
            "display": null,
            "flex": null,
            "flex_flow": null,
            "grid_area": null,
            "grid_auto_columns": null,
            "grid_auto_flow": null,
            "grid_auto_rows": null,
            "grid_column": null,
            "grid_gap": null,
            "grid_row": null,
            "grid_template_areas": null,
            "grid_template_columns": null,
            "grid_template_rows": null,
            "height": null,
            "justify_content": null,
            "justify_items": null,
            "left": null,
            "margin": null,
            "max_height": null,
            "max_width": null,
            "min_height": null,
            "min_width": null,
            "object_fit": null,
            "object_position": null,
            "order": null,
            "overflow": null,
            "overflow_x": null,
            "overflow_y": null,
            "padding": null,
            "right": null,
            "top": null,
            "visibility": null,
            "width": null
          }
        },
        "12ab5415809b4035a42cc69f822a7ec7": {
          "model_module": "@jupyter-widgets/controls",
          "model_name": "DescriptionStyleModel",
          "model_module_version": "1.5.0",
          "state": {
            "_model_module": "@jupyter-widgets/controls",
            "_model_module_version": "1.5.0",
            "_model_name": "DescriptionStyleModel",
            "_view_count": null,
            "_view_module": "@jupyter-widgets/base",
            "_view_module_version": "1.2.0",
            "_view_name": "StyleView",
            "description_width": ""
          }
        },
        "129ab5b7a292400baaef518e9f2e48d1": {
          "model_module": "@jupyter-widgets/base",
          "model_name": "LayoutModel",
          "model_module_version": "1.2.0",
          "state": {
            "_model_module": "@jupyter-widgets/base",
            "_model_module_version": "1.2.0",
            "_model_name": "LayoutModel",
            "_view_count": null,
            "_view_module": "@jupyter-widgets/base",
            "_view_module_version": "1.2.0",
            "_view_name": "LayoutView",
            "align_content": null,
            "align_items": null,
            "align_self": null,
            "border": null,
            "bottom": null,
            "display": null,
            "flex": null,
            "flex_flow": null,
            "grid_area": null,
            "grid_auto_columns": null,
            "grid_auto_flow": null,
            "grid_auto_rows": null,
            "grid_column": null,
            "grid_gap": null,
            "grid_row": null,
            "grid_template_areas": null,
            "grid_template_columns": null,
            "grid_template_rows": null,
            "height": null,
            "justify_content": null,
            "justify_items": null,
            "left": null,
            "margin": null,
            "max_height": null,
            "max_width": null,
            "min_height": null,
            "min_width": null,
            "object_fit": null,
            "object_position": null,
            "order": null,
            "overflow": null,
            "overflow_x": null,
            "overflow_y": null,
            "padding": null,
            "right": null,
            "top": null,
            "visibility": null,
            "width": null
          }
        },
        "e856801b3a0e4227a3251c348a3c6ad4": {
          "model_module": "@jupyter-widgets/controls",
          "model_name": "ProgressStyleModel",
          "model_module_version": "1.5.0",
          "state": {
            "_model_module": "@jupyter-widgets/controls",
            "_model_module_version": "1.5.0",
            "_model_name": "ProgressStyleModel",
            "_view_count": null,
            "_view_module": "@jupyter-widgets/base",
            "_view_module_version": "1.2.0",
            "_view_name": "StyleView",
            "bar_color": null,
            "description_width": ""
          }
        },
        "20d806e4504c4b3889c5f6f77f15de24": {
          "model_module": "@jupyter-widgets/base",
          "model_name": "LayoutModel",
          "model_module_version": "1.2.0",
          "state": {
            "_model_module": "@jupyter-widgets/base",
            "_model_module_version": "1.2.0",
            "_model_name": "LayoutModel",
            "_view_count": null,
            "_view_module": "@jupyter-widgets/base",
            "_view_module_version": "1.2.0",
            "_view_name": "LayoutView",
            "align_content": null,
            "align_items": null,
            "align_self": null,
            "border": null,
            "bottom": null,
            "display": null,
            "flex": null,
            "flex_flow": null,
            "grid_area": null,
            "grid_auto_columns": null,
            "grid_auto_flow": null,
            "grid_auto_rows": null,
            "grid_column": null,
            "grid_gap": null,
            "grid_row": null,
            "grid_template_areas": null,
            "grid_template_columns": null,
            "grid_template_rows": null,
            "height": null,
            "justify_content": null,
            "justify_items": null,
            "left": null,
            "margin": null,
            "max_height": null,
            "max_width": null,
            "min_height": null,
            "min_width": null,
            "object_fit": null,
            "object_position": null,
            "order": null,
            "overflow": null,
            "overflow_x": null,
            "overflow_y": null,
            "padding": null,
            "right": null,
            "top": null,
            "visibility": null,
            "width": null
          }
        },
        "91d952e345cc4ba581e9b6e833ba0da1": {
          "model_module": "@jupyter-widgets/controls",
          "model_name": "DescriptionStyleModel",
          "model_module_version": "1.5.0",
          "state": {
            "_model_module": "@jupyter-widgets/controls",
            "_model_module_version": "1.5.0",
            "_model_name": "DescriptionStyleModel",
            "_view_count": null,
            "_view_module": "@jupyter-widgets/base",
            "_view_module_version": "1.2.0",
            "_view_name": "StyleView",
            "description_width": ""
          }
        },
        "bd51ca9947cd41d687b679b50efe69e2": {
          "model_module": "@jupyter-widgets/controls",
          "model_name": "HBoxModel",
          "model_module_version": "1.5.0",
          "state": {
            "_dom_classes": [],
            "_model_module": "@jupyter-widgets/controls",
            "_model_module_version": "1.5.0",
            "_model_name": "HBoxModel",
            "_view_count": null,
            "_view_module": "@jupyter-widgets/controls",
            "_view_module_version": "1.5.0",
            "_view_name": "HBoxView",
            "box_style": "",
            "children": [
              "IPY_MODEL_f562f4b52df8457db7ae9f9bfb0a6c2c",
              "IPY_MODEL_124baf0a74d44a12805d8183654ded6e",
              "IPY_MODEL_86fba122b3d941f1bf178643be25a4e7"
            ],
            "layout": "IPY_MODEL_5a3b2ec7620740f3a475f3b9b0b02be6"
          }
        },
        "f562f4b52df8457db7ae9f9bfb0a6c2c": {
          "model_module": "@jupyter-widgets/controls",
          "model_name": "HTMLModel",
          "model_module_version": "1.5.0",
          "state": {
            "_dom_classes": [],
            "_model_module": "@jupyter-widgets/controls",
            "_model_module_version": "1.5.0",
            "_model_name": "HTMLModel",
            "_view_count": null,
            "_view_module": "@jupyter-widgets/controls",
            "_view_module_version": "1.5.0",
            "_view_name": "HTMLView",
            "description": "",
            "description_tooltip": null,
            "layout": "IPY_MODEL_c9343310dcf247f389ba586ab6f9ba20",
            "placeholder": "​",
            "style": "IPY_MODEL_71be91093c6e453990c69e4e52729830",
            "value": "train-00000-of-00001.parquet: 100%"
          }
        },
        "124baf0a74d44a12805d8183654ded6e": {
          "model_module": "@jupyter-widgets/controls",
          "model_name": "FloatProgressModel",
          "model_module_version": "1.5.0",
          "state": {
            "_dom_classes": [],
            "_model_module": "@jupyter-widgets/controls",
            "_model_module_version": "1.5.0",
            "_model_name": "FloatProgressModel",
            "_view_count": null,
            "_view_module": "@jupyter-widgets/controls",
            "_view_module_version": "1.5.0",
            "_view_name": "ProgressView",
            "bar_style": "success",
            "description": "",
            "description_tooltip": null,
            "layout": "IPY_MODEL_769e0f3881854b25b01d4a01e99721cf",
            "max": 18585438,
            "min": 0,
            "orientation": "horizontal",
            "style": "IPY_MODEL_b7258b2cb9da4675b823e6dd1ed6b020",
            "value": 18585438
          }
        },
        "86fba122b3d941f1bf178643be25a4e7": {
          "model_module": "@jupyter-widgets/controls",
          "model_name": "HTMLModel",
          "model_module_version": "1.5.0",
          "state": {
            "_dom_classes": [],
            "_model_module": "@jupyter-widgets/controls",
            "_model_module_version": "1.5.0",
            "_model_name": "HTMLModel",
            "_view_count": null,
            "_view_module": "@jupyter-widgets/controls",
            "_view_module_version": "1.5.0",
            "_view_name": "HTMLView",
            "description": "",
            "description_tooltip": null,
            "layout": "IPY_MODEL_095ad8e2e86a4070b18c5f415b5272bb",
            "placeholder": "​",
            "style": "IPY_MODEL_9d0640f30aa34ea49139f3df4d5663a5",
            "value": " 18.6M/18.6M [00:00&lt;00:00, 179MB/s]"
          }
        },
        "5a3b2ec7620740f3a475f3b9b0b02be6": {
          "model_module": "@jupyter-widgets/base",
          "model_name": "LayoutModel",
          "model_module_version": "1.2.0",
          "state": {
            "_model_module": "@jupyter-widgets/base",
            "_model_module_version": "1.2.0",
            "_model_name": "LayoutModel",
            "_view_count": null,
            "_view_module": "@jupyter-widgets/base",
            "_view_module_version": "1.2.0",
            "_view_name": "LayoutView",
            "align_content": null,
            "align_items": null,
            "align_self": null,
            "border": null,
            "bottom": null,
            "display": null,
            "flex": null,
            "flex_flow": null,
            "grid_area": null,
            "grid_auto_columns": null,
            "grid_auto_flow": null,
            "grid_auto_rows": null,
            "grid_column": null,
            "grid_gap": null,
            "grid_row": null,
            "grid_template_areas": null,
            "grid_template_columns": null,
            "grid_template_rows": null,
            "height": null,
            "justify_content": null,
            "justify_items": null,
            "left": null,
            "margin": null,
            "max_height": null,
            "max_width": null,
            "min_height": null,
            "min_width": null,
            "object_fit": null,
            "object_position": null,
            "order": null,
            "overflow": null,
            "overflow_x": null,
            "overflow_y": null,
            "padding": null,
            "right": null,
            "top": null,
            "visibility": null,
            "width": null
          }
        },
        "c9343310dcf247f389ba586ab6f9ba20": {
          "model_module": "@jupyter-widgets/base",
          "model_name": "LayoutModel",
          "model_module_version": "1.2.0",
          "state": {
            "_model_module": "@jupyter-widgets/base",
            "_model_module_version": "1.2.0",
            "_model_name": "LayoutModel",
            "_view_count": null,
            "_view_module": "@jupyter-widgets/base",
            "_view_module_version": "1.2.0",
            "_view_name": "LayoutView",
            "align_content": null,
            "align_items": null,
            "align_self": null,
            "border": null,
            "bottom": null,
            "display": null,
            "flex": null,
            "flex_flow": null,
            "grid_area": null,
            "grid_auto_columns": null,
            "grid_auto_flow": null,
            "grid_auto_rows": null,
            "grid_column": null,
            "grid_gap": null,
            "grid_row": null,
            "grid_template_areas": null,
            "grid_template_columns": null,
            "grid_template_rows": null,
            "height": null,
            "justify_content": null,
            "justify_items": null,
            "left": null,
            "margin": null,
            "max_height": null,
            "max_width": null,
            "min_height": null,
            "min_width": null,
            "object_fit": null,
            "object_position": null,
            "order": null,
            "overflow": null,
            "overflow_x": null,
            "overflow_y": null,
            "padding": null,
            "right": null,
            "top": null,
            "visibility": null,
            "width": null
          }
        },
        "71be91093c6e453990c69e4e52729830": {
          "model_module": "@jupyter-widgets/controls",
          "model_name": "DescriptionStyleModel",
          "model_module_version": "1.5.0",
          "state": {
            "_model_module": "@jupyter-widgets/controls",
            "_model_module_version": "1.5.0",
            "_model_name": "DescriptionStyleModel",
            "_view_count": null,
            "_view_module": "@jupyter-widgets/base",
            "_view_module_version": "1.2.0",
            "_view_name": "StyleView",
            "description_width": ""
          }
        },
        "769e0f3881854b25b01d4a01e99721cf": {
          "model_module": "@jupyter-widgets/base",
          "model_name": "LayoutModel",
          "model_module_version": "1.2.0",
          "state": {
            "_model_module": "@jupyter-widgets/base",
            "_model_module_version": "1.2.0",
            "_model_name": "LayoutModel",
            "_view_count": null,
            "_view_module": "@jupyter-widgets/base",
            "_view_module_version": "1.2.0",
            "_view_name": "LayoutView",
            "align_content": null,
            "align_items": null,
            "align_self": null,
            "border": null,
            "bottom": null,
            "display": null,
            "flex": null,
            "flex_flow": null,
            "grid_area": null,
            "grid_auto_columns": null,
            "grid_auto_flow": null,
            "grid_auto_rows": null,
            "grid_column": null,
            "grid_gap": null,
            "grid_row": null,
            "grid_template_areas": null,
            "grid_template_columns": null,
            "grid_template_rows": null,
            "height": null,
            "justify_content": null,
            "justify_items": null,
            "left": null,
            "margin": null,
            "max_height": null,
            "max_width": null,
            "min_height": null,
            "min_width": null,
            "object_fit": null,
            "object_position": null,
            "order": null,
            "overflow": null,
            "overflow_x": null,
            "overflow_y": null,
            "padding": null,
            "right": null,
            "top": null,
            "visibility": null,
            "width": null
          }
        },
        "b7258b2cb9da4675b823e6dd1ed6b020": {
          "model_module": "@jupyter-widgets/controls",
          "model_name": "ProgressStyleModel",
          "model_module_version": "1.5.0",
          "state": {
            "_model_module": "@jupyter-widgets/controls",
            "_model_module_version": "1.5.0",
            "_model_name": "ProgressStyleModel",
            "_view_count": null,
            "_view_module": "@jupyter-widgets/base",
            "_view_module_version": "1.2.0",
            "_view_name": "StyleView",
            "bar_color": null,
            "description_width": ""
          }
        },
        "095ad8e2e86a4070b18c5f415b5272bb": {
          "model_module": "@jupyter-widgets/base",
          "model_name": "LayoutModel",
          "model_module_version": "1.2.0",
          "state": {
            "_model_module": "@jupyter-widgets/base",
            "_model_module_version": "1.2.0",
            "_model_name": "LayoutModel",
            "_view_count": null,
            "_view_module": "@jupyter-widgets/base",
            "_view_module_version": "1.2.0",
            "_view_name": "LayoutView",
            "align_content": null,
            "align_items": null,
            "align_self": null,
            "border": null,
            "bottom": null,
            "display": null,
            "flex": null,
            "flex_flow": null,
            "grid_area": null,
            "grid_auto_columns": null,
            "grid_auto_flow": null,
            "grid_auto_rows": null,
            "grid_column": null,
            "grid_gap": null,
            "grid_row": null,
            "grid_template_areas": null,
            "grid_template_columns": null,
            "grid_template_rows": null,
            "height": null,
            "justify_content": null,
            "justify_items": null,
            "left": null,
            "margin": null,
            "max_height": null,
            "max_width": null,
            "min_height": null,
            "min_width": null,
            "object_fit": null,
            "object_position": null,
            "order": null,
            "overflow": null,
            "overflow_x": null,
            "overflow_y": null,
            "padding": null,
            "right": null,
            "top": null,
            "visibility": null,
            "width": null
          }
        },
        "9d0640f30aa34ea49139f3df4d5663a5": {
          "model_module": "@jupyter-widgets/controls",
          "model_name": "DescriptionStyleModel",
          "model_module_version": "1.5.0",
          "state": {
            "_model_module": "@jupyter-widgets/controls",
            "_model_module_version": "1.5.0",
            "_model_name": "DescriptionStyleModel",
            "_view_count": null,
            "_view_module": "@jupyter-widgets/base",
            "_view_module_version": "1.2.0",
            "_view_name": "StyleView",
            "description_width": ""
          }
        },
        "41568f45104d4ab68d92ce03a135883f": {
          "model_module": "@jupyter-widgets/controls",
          "model_name": "HBoxModel",
          "model_module_version": "1.5.0",
          "state": {
            "_dom_classes": [],
            "_model_module": "@jupyter-widgets/controls",
            "_model_module_version": "1.5.0",
            "_model_name": "HBoxModel",
            "_view_count": null,
            "_view_module": "@jupyter-widgets/controls",
            "_view_module_version": "1.5.0",
            "_view_name": "HBoxView",
            "box_style": "",
            "children": [
              "IPY_MODEL_b4db4f1c2ff6499b81b68556ab72043b",
              "IPY_MODEL_6440b1ddc7c1485ea6a1e2e24ad078c3",
              "IPY_MODEL_821e5fccecf64c7ab06f8b532438c9ca"
            ],
            "layout": "IPY_MODEL_da7a16a2662e4cd79213f33df27e1a94"
          }
        },
        "b4db4f1c2ff6499b81b68556ab72043b": {
          "model_module": "@jupyter-widgets/controls",
          "model_name": "HTMLModel",
          "model_module_version": "1.5.0",
          "state": {
            "_dom_classes": [],
            "_model_module": "@jupyter-widgets/controls",
            "_model_module_version": "1.5.0",
            "_model_name": "HTMLModel",
            "_view_count": null,
            "_view_module": "@jupyter-widgets/controls",
            "_view_module_version": "1.5.0",
            "_view_name": "HTMLView",
            "description": "",
            "description_tooltip": null,
            "layout": "IPY_MODEL_b023732ecf034fcbb61af16410109bb7",
            "placeholder": "​",
            "style": "IPY_MODEL_c9f6036c88234f6da60376dca99e68ad",
            "value": "test-00000-of-00001.parquet: 100%"
          }
        },
        "6440b1ddc7c1485ea6a1e2e24ad078c3": {
          "model_module": "@jupyter-widgets/controls",
          "model_name": "FloatProgressModel",
          "model_module_version": "1.5.0",
          "state": {
            "_dom_classes": [],
            "_model_module": "@jupyter-widgets/controls",
            "_model_module_version": "1.5.0",
            "_model_name": "FloatProgressModel",
            "_view_count": null,
            "_view_module": "@jupyter-widgets/controls",
            "_view_module_version": "1.5.0",
            "_view_name": "ProgressView",
            "bar_style": "success",
            "description": "",
            "description_tooltip": null,
            "layout": "IPY_MODEL_9aba985858b14cbfabbe628b16f8826a",
            "max": 1234829,
            "min": 0,
            "orientation": "horizontal",
            "style": "IPY_MODEL_e704ccce35d24343962e3161921c9c28",
            "value": 1234829
          }
        },
        "821e5fccecf64c7ab06f8b532438c9ca": {
          "model_module": "@jupyter-widgets/controls",
          "model_name": "HTMLModel",
          "model_module_version": "1.5.0",
          "state": {
            "_dom_classes": [],
            "_model_module": "@jupyter-widgets/controls",
            "_model_module_version": "1.5.0",
            "_model_name": "HTMLModel",
            "_view_count": null,
            "_view_module": "@jupyter-widgets/controls",
            "_view_module_version": "1.5.0",
            "_view_name": "HTMLView",
            "description": "",
            "description_tooltip": null,
            "layout": "IPY_MODEL_261d83fb1d134762b6d8486e49a3c034",
            "placeholder": "​",
            "style": "IPY_MODEL_d794424e7f284809a3bd1b6b0c7bfc1d",
            "value": " 1.23M/1.23M [00:00&lt;00:00, 87.5MB/s]"
          }
        },
        "da7a16a2662e4cd79213f33df27e1a94": {
          "model_module": "@jupyter-widgets/base",
          "model_name": "LayoutModel",
          "model_module_version": "1.2.0",
          "state": {
            "_model_module": "@jupyter-widgets/base",
            "_model_module_version": "1.2.0",
            "_model_name": "LayoutModel",
            "_view_count": null,
            "_view_module": "@jupyter-widgets/base",
            "_view_module_version": "1.2.0",
            "_view_name": "LayoutView",
            "align_content": null,
            "align_items": null,
            "align_self": null,
            "border": null,
            "bottom": null,
            "display": null,
            "flex": null,
            "flex_flow": null,
            "grid_area": null,
            "grid_auto_columns": null,
            "grid_auto_flow": null,
            "grid_auto_rows": null,
            "grid_column": null,
            "grid_gap": null,
            "grid_row": null,
            "grid_template_areas": null,
            "grid_template_columns": null,
            "grid_template_rows": null,
            "height": null,
            "justify_content": null,
            "justify_items": null,
            "left": null,
            "margin": null,
            "max_height": null,
            "max_width": null,
            "min_height": null,
            "min_width": null,
            "object_fit": null,
            "object_position": null,
            "order": null,
            "overflow": null,
            "overflow_x": null,
            "overflow_y": null,
            "padding": null,
            "right": null,
            "top": null,
            "visibility": null,
            "width": null
          }
        },
        "b023732ecf034fcbb61af16410109bb7": {
          "model_module": "@jupyter-widgets/base",
          "model_name": "LayoutModel",
          "model_module_version": "1.2.0",
          "state": {
            "_model_module": "@jupyter-widgets/base",
            "_model_module_version": "1.2.0",
            "_model_name": "LayoutModel",
            "_view_count": null,
            "_view_module": "@jupyter-widgets/base",
            "_view_module_version": "1.2.0",
            "_view_name": "LayoutView",
            "align_content": null,
            "align_items": null,
            "align_self": null,
            "border": null,
            "bottom": null,
            "display": null,
            "flex": null,
            "flex_flow": null,
            "grid_area": null,
            "grid_auto_columns": null,
            "grid_auto_flow": null,
            "grid_auto_rows": null,
            "grid_column": null,
            "grid_gap": null,
            "grid_row": null,
            "grid_template_areas": null,
            "grid_template_columns": null,
            "grid_template_rows": null,
            "height": null,
            "justify_content": null,
            "justify_items": null,
            "left": null,
            "margin": null,
            "max_height": null,
            "max_width": null,
            "min_height": null,
            "min_width": null,
            "object_fit": null,
            "object_position": null,
            "order": null,
            "overflow": null,
            "overflow_x": null,
            "overflow_y": null,
            "padding": null,
            "right": null,
            "top": null,
            "visibility": null,
            "width": null
          }
        },
        "c9f6036c88234f6da60376dca99e68ad": {
          "model_module": "@jupyter-widgets/controls",
          "model_name": "DescriptionStyleModel",
          "model_module_version": "1.5.0",
          "state": {
            "_model_module": "@jupyter-widgets/controls",
            "_model_module_version": "1.5.0",
            "_model_name": "DescriptionStyleModel",
            "_view_count": null,
            "_view_module": "@jupyter-widgets/base",
            "_view_module_version": "1.2.0",
            "_view_name": "StyleView",
            "description_width": ""
          }
        },
        "9aba985858b14cbfabbe628b16f8826a": {
          "model_module": "@jupyter-widgets/base",
          "model_name": "LayoutModel",
          "model_module_version": "1.2.0",
          "state": {
            "_model_module": "@jupyter-widgets/base",
            "_model_module_version": "1.2.0",
            "_model_name": "LayoutModel",
            "_view_count": null,
            "_view_module": "@jupyter-widgets/base",
            "_view_module_version": "1.2.0",
            "_view_name": "LayoutView",
            "align_content": null,
            "align_items": null,
            "align_self": null,
            "border": null,
            "bottom": null,
            "display": null,
            "flex": null,
            "flex_flow": null,
            "grid_area": null,
            "grid_auto_columns": null,
            "grid_auto_flow": null,
            "grid_auto_rows": null,
            "grid_column": null,
            "grid_gap": null,
            "grid_row": null,
            "grid_template_areas": null,
            "grid_template_columns": null,
            "grid_template_rows": null,
            "height": null,
            "justify_content": null,
            "justify_items": null,
            "left": null,
            "margin": null,
            "max_height": null,
            "max_width": null,
            "min_height": null,
            "min_width": null,
            "object_fit": null,
            "object_position": null,
            "order": null,
            "overflow": null,
            "overflow_x": null,
            "overflow_y": null,
            "padding": null,
            "right": null,
            "top": null,
            "visibility": null,
            "width": null
          }
        },
        "e704ccce35d24343962e3161921c9c28": {
          "model_module": "@jupyter-widgets/controls",
          "model_name": "ProgressStyleModel",
          "model_module_version": "1.5.0",
          "state": {
            "_model_module": "@jupyter-widgets/controls",
            "_model_module_version": "1.5.0",
            "_model_name": "ProgressStyleModel",
            "_view_count": null,
            "_view_module": "@jupyter-widgets/base",
            "_view_module_version": "1.2.0",
            "_view_name": "StyleView",
            "bar_color": null,
            "description_width": ""
          }
        },
        "261d83fb1d134762b6d8486e49a3c034": {
          "model_module": "@jupyter-widgets/base",
          "model_name": "LayoutModel",
          "model_module_version": "1.2.0",
          "state": {
            "_model_module": "@jupyter-widgets/base",
            "_model_module_version": "1.2.0",
            "_model_name": "LayoutModel",
            "_view_count": null,
            "_view_module": "@jupyter-widgets/base",
            "_view_module_version": "1.2.0",
            "_view_name": "LayoutView",
            "align_content": null,
            "align_items": null,
            "align_self": null,
            "border": null,
            "bottom": null,
            "display": null,
            "flex": null,
            "flex_flow": null,
            "grid_area": null,
            "grid_auto_columns": null,
            "grid_auto_flow": null,
            "grid_auto_rows": null,
            "grid_column": null,
            "grid_gap": null,
            "grid_row": null,
            "grid_template_areas": null,
            "grid_template_columns": null,
            "grid_template_rows": null,
            "height": null,
            "justify_content": null,
            "justify_items": null,
            "left": null,
            "margin": null,
            "max_height": null,
            "max_width": null,
            "min_height": null,
            "min_width": null,
            "object_fit": null,
            "object_position": null,
            "order": null,
            "overflow": null,
            "overflow_x": null,
            "overflow_y": null,
            "padding": null,
            "right": null,
            "top": null,
            "visibility": null,
            "width": null
          }
        },
        "d794424e7f284809a3bd1b6b0c7bfc1d": {
          "model_module": "@jupyter-widgets/controls",
          "model_name": "DescriptionStyleModel",
          "model_module_version": "1.5.0",
          "state": {
            "_model_module": "@jupyter-widgets/controls",
            "_model_module_version": "1.5.0",
            "_model_name": "DescriptionStyleModel",
            "_view_count": null,
            "_view_module": "@jupyter-widgets/base",
            "_view_module_version": "1.2.0",
            "_view_name": "StyleView",
            "description_width": ""
          }
        },
        "585139a2228542b5b423a685ab13943c": {
          "model_module": "@jupyter-widgets/controls",
          "model_name": "HBoxModel",
          "model_module_version": "1.5.0",
          "state": {
            "_dom_classes": [],
            "_model_module": "@jupyter-widgets/controls",
            "_model_module_version": "1.5.0",
            "_model_name": "HBoxModel",
            "_view_count": null,
            "_view_module": "@jupyter-widgets/controls",
            "_view_module_version": "1.5.0",
            "_view_name": "HBoxView",
            "box_style": "",
            "children": [
              "IPY_MODEL_0f855b102590448fb9a3b20451642eff",
              "IPY_MODEL_23b90d902c6549c3b56481f43fae2648",
              "IPY_MODEL_f67a7de6692c411bac37353fc9f02169"
            ],
            "layout": "IPY_MODEL_8b19c5197a0349ecb2a570167d130dff"
          }
        },
        "0f855b102590448fb9a3b20451642eff": {
          "model_module": "@jupyter-widgets/controls",
          "model_name": "HTMLModel",
          "model_module_version": "1.5.0",
          "state": {
            "_dom_classes": [],
            "_model_module": "@jupyter-widgets/controls",
            "_model_module_version": "1.5.0",
            "_model_name": "HTMLModel",
            "_view_count": null,
            "_view_module": "@jupyter-widgets/controls",
            "_view_module_version": "1.5.0",
            "_view_name": "HTMLView",
            "description": "",
            "description_tooltip": null,
            "layout": "IPY_MODEL_cd23897b8bbb492cb36283ff03e61c00",
            "placeholder": "​",
            "style": "IPY_MODEL_8d9750ed00984cd3a2dc2a81608ee7a0",
            "value": "Generating train split: 100%"
          }
        },
        "23b90d902c6549c3b56481f43fae2648": {
          "model_module": "@jupyter-widgets/controls",
          "model_name": "FloatProgressModel",
          "model_module_version": "1.5.0",
          "state": {
            "_dom_classes": [],
            "_model_module": "@jupyter-widgets/controls",
            "_model_module_version": "1.5.0",
            "_model_name": "FloatProgressModel",
            "_view_count": null,
            "_view_module": "@jupyter-widgets/controls",
            "_view_module_version": "1.5.0",
            "_view_name": "ProgressView",
            "bar_style": "success",
            "description": "",
            "description_tooltip": null,
            "layout": "IPY_MODEL_555028f794774280b8fbec8b766812da",
            "max": 120000,
            "min": 0,
            "orientation": "horizontal",
            "style": "IPY_MODEL_bba6fa472fd84dcf8738f0fb0cbe9c73",
            "value": 120000
          }
        },
        "f67a7de6692c411bac37353fc9f02169": {
          "model_module": "@jupyter-widgets/controls",
          "model_name": "HTMLModel",
          "model_module_version": "1.5.0",
          "state": {
            "_dom_classes": [],
            "_model_module": "@jupyter-widgets/controls",
            "_model_module_version": "1.5.0",
            "_model_name": "HTMLModel",
            "_view_count": null,
            "_view_module": "@jupyter-widgets/controls",
            "_view_module_version": "1.5.0",
            "_view_name": "HTMLView",
            "description": "",
            "description_tooltip": null,
            "layout": "IPY_MODEL_8195ef7d3e504c06beb3e46f220d5e02",
            "placeholder": "​",
            "style": "IPY_MODEL_fe418ec03efc4eed807be9a0d225deb2",
            "value": " 120000/120000 [00:00&lt;00:00, 523853.09 examples/s]"
          }
        },
        "8b19c5197a0349ecb2a570167d130dff": {
          "model_module": "@jupyter-widgets/base",
          "model_name": "LayoutModel",
          "model_module_version": "1.2.0",
          "state": {
            "_model_module": "@jupyter-widgets/base",
            "_model_module_version": "1.2.0",
            "_model_name": "LayoutModel",
            "_view_count": null,
            "_view_module": "@jupyter-widgets/base",
            "_view_module_version": "1.2.0",
            "_view_name": "LayoutView",
            "align_content": null,
            "align_items": null,
            "align_self": null,
            "border": null,
            "bottom": null,
            "display": null,
            "flex": null,
            "flex_flow": null,
            "grid_area": null,
            "grid_auto_columns": null,
            "grid_auto_flow": null,
            "grid_auto_rows": null,
            "grid_column": null,
            "grid_gap": null,
            "grid_row": null,
            "grid_template_areas": null,
            "grid_template_columns": null,
            "grid_template_rows": null,
            "height": null,
            "justify_content": null,
            "justify_items": null,
            "left": null,
            "margin": null,
            "max_height": null,
            "max_width": null,
            "min_height": null,
            "min_width": null,
            "object_fit": null,
            "object_position": null,
            "order": null,
            "overflow": null,
            "overflow_x": null,
            "overflow_y": null,
            "padding": null,
            "right": null,
            "top": null,
            "visibility": null,
            "width": null
          }
        },
        "cd23897b8bbb492cb36283ff03e61c00": {
          "model_module": "@jupyter-widgets/base",
          "model_name": "LayoutModel",
          "model_module_version": "1.2.0",
          "state": {
            "_model_module": "@jupyter-widgets/base",
            "_model_module_version": "1.2.0",
            "_model_name": "LayoutModel",
            "_view_count": null,
            "_view_module": "@jupyter-widgets/base",
            "_view_module_version": "1.2.0",
            "_view_name": "LayoutView",
            "align_content": null,
            "align_items": null,
            "align_self": null,
            "border": null,
            "bottom": null,
            "display": null,
            "flex": null,
            "flex_flow": null,
            "grid_area": null,
            "grid_auto_columns": null,
            "grid_auto_flow": null,
            "grid_auto_rows": null,
            "grid_column": null,
            "grid_gap": null,
            "grid_row": null,
            "grid_template_areas": null,
            "grid_template_columns": null,
            "grid_template_rows": null,
            "height": null,
            "justify_content": null,
            "justify_items": null,
            "left": null,
            "margin": null,
            "max_height": null,
            "max_width": null,
            "min_height": null,
            "min_width": null,
            "object_fit": null,
            "object_position": null,
            "order": null,
            "overflow": null,
            "overflow_x": null,
            "overflow_y": null,
            "padding": null,
            "right": null,
            "top": null,
            "visibility": null,
            "width": null
          }
        },
        "8d9750ed00984cd3a2dc2a81608ee7a0": {
          "model_module": "@jupyter-widgets/controls",
          "model_name": "DescriptionStyleModel",
          "model_module_version": "1.5.0",
          "state": {
            "_model_module": "@jupyter-widgets/controls",
            "_model_module_version": "1.5.0",
            "_model_name": "DescriptionStyleModel",
            "_view_count": null,
            "_view_module": "@jupyter-widgets/base",
            "_view_module_version": "1.2.0",
            "_view_name": "StyleView",
            "description_width": ""
          }
        },
        "555028f794774280b8fbec8b766812da": {
          "model_module": "@jupyter-widgets/base",
          "model_name": "LayoutModel",
          "model_module_version": "1.2.0",
          "state": {
            "_model_module": "@jupyter-widgets/base",
            "_model_module_version": "1.2.0",
            "_model_name": "LayoutModel",
            "_view_count": null,
            "_view_module": "@jupyter-widgets/base",
            "_view_module_version": "1.2.0",
            "_view_name": "LayoutView",
            "align_content": null,
            "align_items": null,
            "align_self": null,
            "border": null,
            "bottom": null,
            "display": null,
            "flex": null,
            "flex_flow": null,
            "grid_area": null,
            "grid_auto_columns": null,
            "grid_auto_flow": null,
            "grid_auto_rows": null,
            "grid_column": null,
            "grid_gap": null,
            "grid_row": null,
            "grid_template_areas": null,
            "grid_template_columns": null,
            "grid_template_rows": null,
            "height": null,
            "justify_content": null,
            "justify_items": null,
            "left": null,
            "margin": null,
            "max_height": null,
            "max_width": null,
            "min_height": null,
            "min_width": null,
            "object_fit": null,
            "object_position": null,
            "order": null,
            "overflow": null,
            "overflow_x": null,
            "overflow_y": null,
            "padding": null,
            "right": null,
            "top": null,
            "visibility": null,
            "width": null
          }
        },
        "bba6fa472fd84dcf8738f0fb0cbe9c73": {
          "model_module": "@jupyter-widgets/controls",
          "model_name": "ProgressStyleModel",
          "model_module_version": "1.5.0",
          "state": {
            "_model_module": "@jupyter-widgets/controls",
            "_model_module_version": "1.5.0",
            "_model_name": "ProgressStyleModel",
            "_view_count": null,
            "_view_module": "@jupyter-widgets/base",
            "_view_module_version": "1.2.0",
            "_view_name": "StyleView",
            "bar_color": null,
            "description_width": ""
          }
        },
        "8195ef7d3e504c06beb3e46f220d5e02": {
          "model_module": "@jupyter-widgets/base",
          "model_name": "LayoutModel",
          "model_module_version": "1.2.0",
          "state": {
            "_model_module": "@jupyter-widgets/base",
            "_model_module_version": "1.2.0",
            "_model_name": "LayoutModel",
            "_view_count": null,
            "_view_module": "@jupyter-widgets/base",
            "_view_module_version": "1.2.0",
            "_view_name": "LayoutView",
            "align_content": null,
            "align_items": null,
            "align_self": null,
            "border": null,
            "bottom": null,
            "display": null,
            "flex": null,
            "flex_flow": null,
            "grid_area": null,
            "grid_auto_columns": null,
            "grid_auto_flow": null,
            "grid_auto_rows": null,
            "grid_column": null,
            "grid_gap": null,
            "grid_row": null,
            "grid_template_areas": null,
            "grid_template_columns": null,
            "grid_template_rows": null,
            "height": null,
            "justify_content": null,
            "justify_items": null,
            "left": null,
            "margin": null,
            "max_height": null,
            "max_width": null,
            "min_height": null,
            "min_width": null,
            "object_fit": null,
            "object_position": null,
            "order": null,
            "overflow": null,
            "overflow_x": null,
            "overflow_y": null,
            "padding": null,
            "right": null,
            "top": null,
            "visibility": null,
            "width": null
          }
        },
        "fe418ec03efc4eed807be9a0d225deb2": {
          "model_module": "@jupyter-widgets/controls",
          "model_name": "DescriptionStyleModel",
          "model_module_version": "1.5.0",
          "state": {
            "_model_module": "@jupyter-widgets/controls",
            "_model_module_version": "1.5.0",
            "_model_name": "DescriptionStyleModel",
            "_view_count": null,
            "_view_module": "@jupyter-widgets/base",
            "_view_module_version": "1.2.0",
            "_view_name": "StyleView",
            "description_width": ""
          }
        },
        "c3f22119e4394ab390f05019abb48082": {
          "model_module": "@jupyter-widgets/controls",
          "model_name": "HBoxModel",
          "model_module_version": "1.5.0",
          "state": {
            "_dom_classes": [],
            "_model_module": "@jupyter-widgets/controls",
            "_model_module_version": "1.5.0",
            "_model_name": "HBoxModel",
            "_view_count": null,
            "_view_module": "@jupyter-widgets/controls",
            "_view_module_version": "1.5.0",
            "_view_name": "HBoxView",
            "box_style": "",
            "children": [
              "IPY_MODEL_f0b57a76b8df4d09978a3aff7872110b",
              "IPY_MODEL_a1f7704341e1470d95566b1bfd23fdb5",
              "IPY_MODEL_a98db1f5b76f4e2aa683316f84127641"
            ],
            "layout": "IPY_MODEL_d72eaf8ed5ad4ad49479382706d0589d"
          }
        },
        "f0b57a76b8df4d09978a3aff7872110b": {
          "model_module": "@jupyter-widgets/controls",
          "model_name": "HTMLModel",
          "model_module_version": "1.5.0",
          "state": {
            "_dom_classes": [],
            "_model_module": "@jupyter-widgets/controls",
            "_model_module_version": "1.5.0",
            "_model_name": "HTMLModel",
            "_view_count": null,
            "_view_module": "@jupyter-widgets/controls",
            "_view_module_version": "1.5.0",
            "_view_name": "HTMLView",
            "description": "",
            "description_tooltip": null,
            "layout": "IPY_MODEL_90b2d30cc8b14e9d85d112ea086782fb",
            "placeholder": "​",
            "style": "IPY_MODEL_c88ae52a858742c2805df13bb4740b4f",
            "value": "Generating test split: 100%"
          }
        },
        "a1f7704341e1470d95566b1bfd23fdb5": {
          "model_module": "@jupyter-widgets/controls",
          "model_name": "FloatProgressModel",
          "model_module_version": "1.5.0",
          "state": {
            "_dom_classes": [],
            "_model_module": "@jupyter-widgets/controls",
            "_model_module_version": "1.5.0",
            "_model_name": "FloatProgressModel",
            "_view_count": null,
            "_view_module": "@jupyter-widgets/controls",
            "_view_module_version": "1.5.0",
            "_view_name": "ProgressView",
            "bar_style": "success",
            "description": "",
            "description_tooltip": null,
            "layout": "IPY_MODEL_3eb5c6d49d884614862e0a8c774c43d3",
            "max": 7600,
            "min": 0,
            "orientation": "horizontal",
            "style": "IPY_MODEL_4c362b237c104158888788bb9ff01eb7",
            "value": 7600
          }
        },
        "a98db1f5b76f4e2aa683316f84127641": {
          "model_module": "@jupyter-widgets/controls",
          "model_name": "HTMLModel",
          "model_module_version": "1.5.0",
          "state": {
            "_dom_classes": [],
            "_model_module": "@jupyter-widgets/controls",
            "_model_module_version": "1.5.0",
            "_model_name": "HTMLModel",
            "_view_count": null,
            "_view_module": "@jupyter-widgets/controls",
            "_view_module_version": "1.5.0",
            "_view_name": "HTMLView",
            "description": "",
            "description_tooltip": null,
            "layout": "IPY_MODEL_ca27659333d74ccbb68b1acd23fe0272",
            "placeholder": "​",
            "style": "IPY_MODEL_31b876695c0840e29ef7caab7e7c48eb",
            "value": " 7600/7600 [00:00&lt;00:00, 173234.52 examples/s]"
          }
        },
        "d72eaf8ed5ad4ad49479382706d0589d": {
          "model_module": "@jupyter-widgets/base",
          "model_name": "LayoutModel",
          "model_module_version": "1.2.0",
          "state": {
            "_model_module": "@jupyter-widgets/base",
            "_model_module_version": "1.2.0",
            "_model_name": "LayoutModel",
            "_view_count": null,
            "_view_module": "@jupyter-widgets/base",
            "_view_module_version": "1.2.0",
            "_view_name": "LayoutView",
            "align_content": null,
            "align_items": null,
            "align_self": null,
            "border": null,
            "bottom": null,
            "display": null,
            "flex": null,
            "flex_flow": null,
            "grid_area": null,
            "grid_auto_columns": null,
            "grid_auto_flow": null,
            "grid_auto_rows": null,
            "grid_column": null,
            "grid_gap": null,
            "grid_row": null,
            "grid_template_areas": null,
            "grid_template_columns": null,
            "grid_template_rows": null,
            "height": null,
            "justify_content": null,
            "justify_items": null,
            "left": null,
            "margin": null,
            "max_height": null,
            "max_width": null,
            "min_height": null,
            "min_width": null,
            "object_fit": null,
            "object_position": null,
            "order": null,
            "overflow": null,
            "overflow_x": null,
            "overflow_y": null,
            "padding": null,
            "right": null,
            "top": null,
            "visibility": null,
            "width": null
          }
        },
        "90b2d30cc8b14e9d85d112ea086782fb": {
          "model_module": "@jupyter-widgets/base",
          "model_name": "LayoutModel",
          "model_module_version": "1.2.0",
          "state": {
            "_model_module": "@jupyter-widgets/base",
            "_model_module_version": "1.2.0",
            "_model_name": "LayoutModel",
            "_view_count": null,
            "_view_module": "@jupyter-widgets/base",
            "_view_module_version": "1.2.0",
            "_view_name": "LayoutView",
            "align_content": null,
            "align_items": null,
            "align_self": null,
            "border": null,
            "bottom": null,
            "display": null,
            "flex": null,
            "flex_flow": null,
            "grid_area": null,
            "grid_auto_columns": null,
            "grid_auto_flow": null,
            "grid_auto_rows": null,
            "grid_column": null,
            "grid_gap": null,
            "grid_row": null,
            "grid_template_areas": null,
            "grid_template_columns": null,
            "grid_template_rows": null,
            "height": null,
            "justify_content": null,
            "justify_items": null,
            "left": null,
            "margin": null,
            "max_height": null,
            "max_width": null,
            "min_height": null,
            "min_width": null,
            "object_fit": null,
            "object_position": null,
            "order": null,
            "overflow": null,
            "overflow_x": null,
            "overflow_y": null,
            "padding": null,
            "right": null,
            "top": null,
            "visibility": null,
            "width": null
          }
        },
        "c88ae52a858742c2805df13bb4740b4f": {
          "model_module": "@jupyter-widgets/controls",
          "model_name": "DescriptionStyleModel",
          "model_module_version": "1.5.0",
          "state": {
            "_model_module": "@jupyter-widgets/controls",
            "_model_module_version": "1.5.0",
            "_model_name": "DescriptionStyleModel",
            "_view_count": null,
            "_view_module": "@jupyter-widgets/base",
            "_view_module_version": "1.2.0",
            "_view_name": "StyleView",
            "description_width": ""
          }
        },
        "3eb5c6d49d884614862e0a8c774c43d3": {
          "model_module": "@jupyter-widgets/base",
          "model_name": "LayoutModel",
          "model_module_version": "1.2.0",
          "state": {
            "_model_module": "@jupyter-widgets/base",
            "_model_module_version": "1.2.0",
            "_model_name": "LayoutModel",
            "_view_count": null,
            "_view_module": "@jupyter-widgets/base",
            "_view_module_version": "1.2.0",
            "_view_name": "LayoutView",
            "align_content": null,
            "align_items": null,
            "align_self": null,
            "border": null,
            "bottom": null,
            "display": null,
            "flex": null,
            "flex_flow": null,
            "grid_area": null,
            "grid_auto_columns": null,
            "grid_auto_flow": null,
            "grid_auto_rows": null,
            "grid_column": null,
            "grid_gap": null,
            "grid_row": null,
            "grid_template_areas": null,
            "grid_template_columns": null,
            "grid_template_rows": null,
            "height": null,
            "justify_content": null,
            "justify_items": null,
            "left": null,
            "margin": null,
            "max_height": null,
            "max_width": null,
            "min_height": null,
            "min_width": null,
            "object_fit": null,
            "object_position": null,
            "order": null,
            "overflow": null,
            "overflow_x": null,
            "overflow_y": null,
            "padding": null,
            "right": null,
            "top": null,
            "visibility": null,
            "width": null
          }
        },
        "4c362b237c104158888788bb9ff01eb7": {
          "model_module": "@jupyter-widgets/controls",
          "model_name": "ProgressStyleModel",
          "model_module_version": "1.5.0",
          "state": {
            "_model_module": "@jupyter-widgets/controls",
            "_model_module_version": "1.5.0",
            "_model_name": "ProgressStyleModel",
            "_view_count": null,
            "_view_module": "@jupyter-widgets/base",
            "_view_module_version": "1.2.0",
            "_view_name": "StyleView",
            "bar_color": null,
            "description_width": ""
          }
        },
        "ca27659333d74ccbb68b1acd23fe0272": {
          "model_module": "@jupyter-widgets/base",
          "model_name": "LayoutModel",
          "model_module_version": "1.2.0",
          "state": {
            "_model_module": "@jupyter-widgets/base",
            "_model_module_version": "1.2.0",
            "_model_name": "LayoutModel",
            "_view_count": null,
            "_view_module": "@jupyter-widgets/base",
            "_view_module_version": "1.2.0",
            "_view_name": "LayoutView",
            "align_content": null,
            "align_items": null,
            "align_self": null,
            "border": null,
            "bottom": null,
            "display": null,
            "flex": null,
            "flex_flow": null,
            "grid_area": null,
            "grid_auto_columns": null,
            "grid_auto_flow": null,
            "grid_auto_rows": null,
            "grid_column": null,
            "grid_gap": null,
            "grid_row": null,
            "grid_template_areas": null,
            "grid_template_columns": null,
            "grid_template_rows": null,
            "height": null,
            "justify_content": null,
            "justify_items": null,
            "left": null,
            "margin": null,
            "max_height": null,
            "max_width": null,
            "min_height": null,
            "min_width": null,
            "object_fit": null,
            "object_position": null,
            "order": null,
            "overflow": null,
            "overflow_x": null,
            "overflow_y": null,
            "padding": null,
            "right": null,
            "top": null,
            "visibility": null,
            "width": null
          }
        },
        "31b876695c0840e29ef7caab7e7c48eb": {
          "model_module": "@jupyter-widgets/controls",
          "model_name": "DescriptionStyleModel",
          "model_module_version": "1.5.0",
          "state": {
            "_model_module": "@jupyter-widgets/controls",
            "_model_module_version": "1.5.0",
            "_model_name": "DescriptionStyleModel",
            "_view_count": null,
            "_view_module": "@jupyter-widgets/base",
            "_view_module_version": "1.2.0",
            "_view_name": "StyleView",
            "description_width": ""
          }
        },
        "2c5a88412c6a49328aa5df8a2079f215": {
          "model_module": "@jupyter-widgets/controls",
          "model_name": "HBoxModel",
          "model_module_version": "1.5.0",
          "state": {
            "_dom_classes": [],
            "_model_module": "@jupyter-widgets/controls",
            "_model_module_version": "1.5.0",
            "_model_name": "HBoxModel",
            "_view_count": null,
            "_view_module": "@jupyter-widgets/controls",
            "_view_module_version": "1.5.0",
            "_view_name": "HBoxView",
            "box_style": "",
            "children": [
              "IPY_MODEL_d136d827f7c4427aa8689b4c209d076d",
              "IPY_MODEL_e83d015f2b774b79994735bd0e9af093",
              "IPY_MODEL_4cd5120d71cf4b69b02c1114a933d767"
            ],
            "layout": "IPY_MODEL_b4cec760884d4c6bba05b2f9b6640ecc"
          }
        },
        "d136d827f7c4427aa8689b4c209d076d": {
          "model_module": "@jupyter-widgets/controls",
          "model_name": "HTMLModel",
          "model_module_version": "1.5.0",
          "state": {
            "_dom_classes": [],
            "_model_module": "@jupyter-widgets/controls",
            "_model_module_version": "1.5.0",
            "_model_name": "HTMLModel",
            "_view_count": null,
            "_view_module": "@jupyter-widgets/controls",
            "_view_module_version": "1.5.0",
            "_view_name": "HTMLView",
            "description": "",
            "description_tooltip": null,
            "layout": "IPY_MODEL_94020b92fbdd420589d4befdd661aa35",
            "placeholder": "​",
            "style": "IPY_MODEL_29a578bc4b3a497eb3bbf3df7d250efe",
            "value": "100%"
          }
        },
        "e83d015f2b774b79994735bd0e9af093": {
          "model_module": "@jupyter-widgets/controls",
          "model_name": "FloatProgressModel",
          "model_module_version": "1.5.0",
          "state": {
            "_dom_classes": [],
            "_model_module": "@jupyter-widgets/controls",
            "_model_module_version": "1.5.0",
            "_model_name": "FloatProgressModel",
            "_view_count": null,
            "_view_module": "@jupyter-widgets/controls",
            "_view_module_version": "1.5.0",
            "_view_name": "ProgressView",
            "bar_style": "success",
            "description": "",
            "description_tooltip": null,
            "layout": "IPY_MODEL_112b8a41368b4a50a3706d5f78f1e31b",
            "max": 120000,
            "min": 0,
            "orientation": "horizontal",
            "style": "IPY_MODEL_843b8dcec9164d459f41f318c6acdfcf",
            "value": 120000
          }
        },
        "4cd5120d71cf4b69b02c1114a933d767": {
          "model_module": "@jupyter-widgets/controls",
          "model_name": "HTMLModel",
          "model_module_version": "1.5.0",
          "state": {
            "_dom_classes": [],
            "_model_module": "@jupyter-widgets/controls",
            "_model_module_version": "1.5.0",
            "_model_name": "HTMLModel",
            "_view_count": null,
            "_view_module": "@jupyter-widgets/controls",
            "_view_module_version": "1.5.0",
            "_view_name": "HTMLView",
            "description": "",
            "description_tooltip": null,
            "layout": "IPY_MODEL_cf68107fbd7c454891c4438d163a9e8e",
            "placeholder": "​",
            "style": "IPY_MODEL_ffda27f3652c4fb3a4de8fff4f5135ab",
            "value": " 120000/120000 [00:24&lt;00:00, 2942.16it/s]"
          }
        },
        "b4cec760884d4c6bba05b2f9b6640ecc": {
          "model_module": "@jupyter-widgets/base",
          "model_name": "LayoutModel",
          "model_module_version": "1.2.0",
          "state": {
            "_model_module": "@jupyter-widgets/base",
            "_model_module_version": "1.2.0",
            "_model_name": "LayoutModel",
            "_view_count": null,
            "_view_module": "@jupyter-widgets/base",
            "_view_module_version": "1.2.0",
            "_view_name": "LayoutView",
            "align_content": null,
            "align_items": null,
            "align_self": null,
            "border": null,
            "bottom": null,
            "display": null,
            "flex": null,
            "flex_flow": null,
            "grid_area": null,
            "grid_auto_columns": null,
            "grid_auto_flow": null,
            "grid_auto_rows": null,
            "grid_column": null,
            "grid_gap": null,
            "grid_row": null,
            "grid_template_areas": null,
            "grid_template_columns": null,
            "grid_template_rows": null,
            "height": null,
            "justify_content": null,
            "justify_items": null,
            "left": null,
            "margin": null,
            "max_height": null,
            "max_width": null,
            "min_height": null,
            "min_width": null,
            "object_fit": null,
            "object_position": null,
            "order": null,
            "overflow": null,
            "overflow_x": null,
            "overflow_y": null,
            "padding": null,
            "right": null,
            "top": null,
            "visibility": null,
            "width": null
          }
        },
        "94020b92fbdd420589d4befdd661aa35": {
          "model_module": "@jupyter-widgets/base",
          "model_name": "LayoutModel",
          "model_module_version": "1.2.0",
          "state": {
            "_model_module": "@jupyter-widgets/base",
            "_model_module_version": "1.2.0",
            "_model_name": "LayoutModel",
            "_view_count": null,
            "_view_module": "@jupyter-widgets/base",
            "_view_module_version": "1.2.0",
            "_view_name": "LayoutView",
            "align_content": null,
            "align_items": null,
            "align_self": null,
            "border": null,
            "bottom": null,
            "display": null,
            "flex": null,
            "flex_flow": null,
            "grid_area": null,
            "grid_auto_columns": null,
            "grid_auto_flow": null,
            "grid_auto_rows": null,
            "grid_column": null,
            "grid_gap": null,
            "grid_row": null,
            "grid_template_areas": null,
            "grid_template_columns": null,
            "grid_template_rows": null,
            "height": null,
            "justify_content": null,
            "justify_items": null,
            "left": null,
            "margin": null,
            "max_height": null,
            "max_width": null,
            "min_height": null,
            "min_width": null,
            "object_fit": null,
            "object_position": null,
            "order": null,
            "overflow": null,
            "overflow_x": null,
            "overflow_y": null,
            "padding": null,
            "right": null,
            "top": null,
            "visibility": null,
            "width": null
          }
        },
        "29a578bc4b3a497eb3bbf3df7d250efe": {
          "model_module": "@jupyter-widgets/controls",
          "model_name": "DescriptionStyleModel",
          "model_module_version": "1.5.0",
          "state": {
            "_model_module": "@jupyter-widgets/controls",
            "_model_module_version": "1.5.0",
            "_model_name": "DescriptionStyleModel",
            "_view_count": null,
            "_view_module": "@jupyter-widgets/base",
            "_view_module_version": "1.2.0",
            "_view_name": "StyleView",
            "description_width": ""
          }
        },
        "112b8a41368b4a50a3706d5f78f1e31b": {
          "model_module": "@jupyter-widgets/base",
          "model_name": "LayoutModel",
          "model_module_version": "1.2.0",
          "state": {
            "_model_module": "@jupyter-widgets/base",
            "_model_module_version": "1.2.0",
            "_model_name": "LayoutModel",
            "_view_count": null,
            "_view_module": "@jupyter-widgets/base",
            "_view_module_version": "1.2.0",
            "_view_name": "LayoutView",
            "align_content": null,
            "align_items": null,
            "align_self": null,
            "border": null,
            "bottom": null,
            "display": null,
            "flex": null,
            "flex_flow": null,
            "grid_area": null,
            "grid_auto_columns": null,
            "grid_auto_flow": null,
            "grid_auto_rows": null,
            "grid_column": null,
            "grid_gap": null,
            "grid_row": null,
            "grid_template_areas": null,
            "grid_template_columns": null,
            "grid_template_rows": null,
            "height": null,
            "justify_content": null,
            "justify_items": null,
            "left": null,
            "margin": null,
            "max_height": null,
            "max_width": null,
            "min_height": null,
            "min_width": null,
            "object_fit": null,
            "object_position": null,
            "order": null,
            "overflow": null,
            "overflow_x": null,
            "overflow_y": null,
            "padding": null,
            "right": null,
            "top": null,
            "visibility": null,
            "width": null
          }
        },
        "843b8dcec9164d459f41f318c6acdfcf": {
          "model_module": "@jupyter-widgets/controls",
          "model_name": "ProgressStyleModel",
          "model_module_version": "1.5.0",
          "state": {
            "_model_module": "@jupyter-widgets/controls",
            "_model_module_version": "1.5.0",
            "_model_name": "ProgressStyleModel",
            "_view_count": null,
            "_view_module": "@jupyter-widgets/base",
            "_view_module_version": "1.2.0",
            "_view_name": "StyleView",
            "bar_color": null,
            "description_width": ""
          }
        },
        "cf68107fbd7c454891c4438d163a9e8e": {
          "model_module": "@jupyter-widgets/base",
          "model_name": "LayoutModel",
          "model_module_version": "1.2.0",
          "state": {
            "_model_module": "@jupyter-widgets/base",
            "_model_module_version": "1.2.0",
            "_model_name": "LayoutModel",
            "_view_count": null,
            "_view_module": "@jupyter-widgets/base",
            "_view_module_version": "1.2.0",
            "_view_name": "LayoutView",
            "align_content": null,
            "align_items": null,
            "align_self": null,
            "border": null,
            "bottom": null,
            "display": null,
            "flex": null,
            "flex_flow": null,
            "grid_area": null,
            "grid_auto_columns": null,
            "grid_auto_flow": null,
            "grid_auto_rows": null,
            "grid_column": null,
            "grid_gap": null,
            "grid_row": null,
            "grid_template_areas": null,
            "grid_template_columns": null,
            "grid_template_rows": null,
            "height": null,
            "justify_content": null,
            "justify_items": null,
            "left": null,
            "margin": null,
            "max_height": null,
            "max_width": null,
            "min_height": null,
            "min_width": null,
            "object_fit": null,
            "object_position": null,
            "order": null,
            "overflow": null,
            "overflow_x": null,
            "overflow_y": null,
            "padding": null,
            "right": null,
            "top": null,
            "visibility": null,
            "width": null
          }
        },
        "ffda27f3652c4fb3a4de8fff4f5135ab": {
          "model_module": "@jupyter-widgets/controls",
          "model_name": "DescriptionStyleModel",
          "model_module_version": "1.5.0",
          "state": {
            "_model_module": "@jupyter-widgets/controls",
            "_model_module_version": "1.5.0",
            "_model_name": "DescriptionStyleModel",
            "_view_count": null,
            "_view_module": "@jupyter-widgets/base",
            "_view_module_version": "1.2.0",
            "_view_name": "StyleView",
            "description_width": ""
          }
        }
      }
    }
  },
  "cells": [
    {
      "cell_type": "markdown",
      "metadata": {
        "id": "view-in-github",
        "colab_type": "text"
      },
      "source": [
        "<a href=\"https://colab.research.google.com/github/Evgenii1994/DLS2/blob/main/week_02_text_classification/Homework/hw_text_classification.ipynb\" target=\"_parent\"><img src=\"https://colab.research.google.com/assets/colab-badge.svg\" alt=\"Open In Colab\"/></a>"
      ]
    },
    {
      "cell_type": "markdown",
      "source": [
        "# Домашнее задание. Нейросетевая классификация текстов\n",
        "\n",
        "В этом домашнем задании вам предстоит самостоятельно решить задачу классификации текстов на основе семинарского кода. Мы будем использовать датасет [ag_news](https://paperswithcode.com/dataset/ag-news). Это датасет для классификации новостей на 4 темы: \"World\", \"Sports\", \"Business\", \"Sci/Tech\".\n",
        "\n",
        "Установим модуль datasets, чтобы нам проще было работать с данными."
      ],
      "metadata": {
        "id": "d0ADTojbpfLt"
      }
    },
    {
      "cell_type": "code",
      "source": [
        "!pip install datasets"
      ],
      "metadata": {
        "id": "p2QW_jCR0_kh",
        "colab": {
          "base_uri": "https://localhost:8080/"
        },
        "outputId": "6ef0f77a-cf6a-4be1-d11f-5c6a2cc79acd",
        "collapsed": true
      },
      "execution_count": 1,
      "outputs": [
        {
          "output_type": "stream",
          "name": "stdout",
          "text": [
            "Collecting datasets\n",
            "  Downloading datasets-3.4.0-py3-none-any.whl.metadata (19 kB)\n",
            "Requirement already satisfied: filelock in /usr/local/lib/python3.11/dist-packages (from datasets) (3.17.0)\n",
            "Requirement already satisfied: numpy>=1.17 in /usr/local/lib/python3.11/dist-packages (from datasets) (1.26.4)\n",
            "Requirement already satisfied: pyarrow>=15.0.0 in /usr/local/lib/python3.11/dist-packages (from datasets) (18.1.0)\n",
            "Collecting dill<0.3.9,>=0.3.0 (from datasets)\n",
            "  Downloading dill-0.3.8-py3-none-any.whl.metadata (10 kB)\n",
            "Requirement already satisfied: pandas in /usr/local/lib/python3.11/dist-packages (from datasets) (2.2.2)\n",
            "Requirement already satisfied: requests>=2.32.2 in /usr/local/lib/python3.11/dist-packages (from datasets) (2.32.3)\n",
            "Requirement already satisfied: tqdm>=4.66.3 in /usr/local/lib/python3.11/dist-packages (from datasets) (4.67.1)\n",
            "Collecting xxhash (from datasets)\n",
            "  Downloading xxhash-3.5.0-cp311-cp311-manylinux_2_17_x86_64.manylinux2014_x86_64.whl.metadata (12 kB)\n",
            "Collecting multiprocess<0.70.17 (from datasets)\n",
            "  Downloading multiprocess-0.70.16-py311-none-any.whl.metadata (7.2 kB)\n",
            "Requirement already satisfied: fsspec<=2024.12.0,>=2023.1.0 in /usr/local/lib/python3.11/dist-packages (from fsspec[http]<=2024.12.0,>=2023.1.0->datasets) (2024.10.0)\n",
            "Requirement already satisfied: aiohttp in /usr/local/lib/python3.11/dist-packages (from datasets) (3.11.13)\n",
            "Requirement already satisfied: huggingface-hub>=0.24.0 in /usr/local/lib/python3.11/dist-packages (from datasets) (0.28.1)\n",
            "Requirement already satisfied: packaging in /usr/local/lib/python3.11/dist-packages (from datasets) (24.2)\n",
            "Requirement already satisfied: pyyaml>=5.1 in /usr/local/lib/python3.11/dist-packages (from datasets) (6.0.2)\n",
            "Requirement already satisfied: aiohappyeyeballs>=2.3.0 in /usr/local/lib/python3.11/dist-packages (from aiohttp->datasets) (2.6.1)\n",
            "Requirement already satisfied: aiosignal>=1.1.2 in /usr/local/lib/python3.11/dist-packages (from aiohttp->datasets) (1.3.2)\n",
            "Requirement already satisfied: attrs>=17.3.0 in /usr/local/lib/python3.11/dist-packages (from aiohttp->datasets) (25.2.0)\n",
            "Requirement already satisfied: frozenlist>=1.1.1 in /usr/local/lib/python3.11/dist-packages (from aiohttp->datasets) (1.5.0)\n",
            "Requirement already satisfied: multidict<7.0,>=4.5 in /usr/local/lib/python3.11/dist-packages (from aiohttp->datasets) (6.1.0)\n",
            "Requirement already satisfied: propcache>=0.2.0 in /usr/local/lib/python3.11/dist-packages (from aiohttp->datasets) (0.3.0)\n",
            "Requirement already satisfied: yarl<2.0,>=1.17.0 in /usr/local/lib/python3.11/dist-packages (from aiohttp->datasets) (1.18.3)\n",
            "Requirement already satisfied: typing-extensions>=3.7.4.3 in /usr/local/lib/python3.11/dist-packages (from huggingface-hub>=0.24.0->datasets) (4.12.2)\n",
            "Requirement already satisfied: charset-normalizer<4,>=2 in /usr/local/lib/python3.11/dist-packages (from requests>=2.32.2->datasets) (3.4.1)\n",
            "Requirement already satisfied: idna<4,>=2.5 in /usr/local/lib/python3.11/dist-packages (from requests>=2.32.2->datasets) (3.10)\n",
            "Requirement already satisfied: urllib3<3,>=1.21.1 in /usr/local/lib/python3.11/dist-packages (from requests>=2.32.2->datasets) (2.3.0)\n",
            "Requirement already satisfied: certifi>=2017.4.17 in /usr/local/lib/python3.11/dist-packages (from requests>=2.32.2->datasets) (2025.1.31)\n",
            "Requirement already satisfied: python-dateutil>=2.8.2 in /usr/local/lib/python3.11/dist-packages (from pandas->datasets) (2.8.2)\n",
            "Requirement already satisfied: pytz>=2020.1 in /usr/local/lib/python3.11/dist-packages (from pandas->datasets) (2025.1)\n",
            "Requirement already satisfied: tzdata>=2022.7 in /usr/local/lib/python3.11/dist-packages (from pandas->datasets) (2025.1)\n",
            "Requirement already satisfied: six>=1.5 in /usr/local/lib/python3.11/dist-packages (from python-dateutil>=2.8.2->pandas->datasets) (1.17.0)\n",
            "Downloading datasets-3.4.0-py3-none-any.whl (487 kB)\n",
            "\u001b[2K   \u001b[90m━━━━━━━━━━━━━━━━━━━━━━━━━━━━━━━━━━━━━━━━\u001b[0m \u001b[32m487.4/487.4 kB\u001b[0m \u001b[31m12.2 MB/s\u001b[0m eta \u001b[36m0:00:00\u001b[0m\n",
            "\u001b[?25hDownloading dill-0.3.8-py3-none-any.whl (116 kB)\n",
            "\u001b[2K   \u001b[90m━━━━━━━━━━━━━━━━━━━━━━━━━━━━━━━━━━━━━━━━\u001b[0m \u001b[32m116.3/116.3 kB\u001b[0m \u001b[31m3.9 MB/s\u001b[0m eta \u001b[36m0:00:00\u001b[0m\n",
            "\u001b[?25hDownloading multiprocess-0.70.16-py311-none-any.whl (143 kB)\n",
            "\u001b[2K   \u001b[90m━━━━━━━━━━━━━━━━━━━━━━━━━━━━━━━━━━━━━━━━\u001b[0m \u001b[32m143.5/143.5 kB\u001b[0m \u001b[31m8.8 MB/s\u001b[0m eta \u001b[36m0:00:00\u001b[0m\n",
            "\u001b[?25hDownloading xxhash-3.5.0-cp311-cp311-manylinux_2_17_x86_64.manylinux2014_x86_64.whl (194 kB)\n",
            "\u001b[2K   \u001b[90m━━━━━━━━━━━━━━━━━━━━━━━━━━━━━━━━━━━━━━━━\u001b[0m \u001b[32m194.8/194.8 kB\u001b[0m \u001b[31m8.9 MB/s\u001b[0m eta \u001b[36m0:00:00\u001b[0m\n",
            "\u001b[?25hInstalling collected packages: xxhash, dill, multiprocess, datasets\n",
            "Successfully installed datasets-3.4.0 dill-0.3.8 multiprocess-0.70.16 xxhash-3.5.0\n"
          ]
        }
      ]
    },
    {
      "cell_type": "markdown",
      "source": [
        "Импорт необходимых библиотек"
      ],
      "metadata": {
        "id": "rh9ZXSeCpng9"
      }
    },
    {
      "cell_type": "code",
      "source": [
        "import torch\n",
        "import torch.nn as nn\n",
        "from torch.utils.data import Dataset, DataLoader\n",
        "import datasets\n",
        "\n",
        "import numpy as np\n",
        "import matplotlib.pyplot as plt\n",
        "\n",
        "from tqdm.auto import tqdm\n",
        "from datasets import load_dataset\n",
        "from nltk.tokenize import word_tokenize\n",
        "from sklearn.model_selection import train_test_split\n",
        "import nltk\n",
        "\n",
        "from collections import Counter\n",
        "from typing import List\n",
        "import string\n",
        "\n",
        "import seaborn\n",
        "seaborn.set(palette='summer')"
      ],
      "metadata": {
        "id": "XOJi16bLpd_O"
      },
      "execution_count": 2,
      "outputs": []
    },
    {
      "cell_type": "code",
      "source": [
        "nltk.download('punkt')\n",
        "nltk.download('punkt_tab')"
      ],
      "metadata": {
        "id": "91JuM0SQvXud",
        "colab": {
          "base_uri": "https://localhost:8080/"
        },
        "outputId": "cbd6a991-b9f0-437e-8738-bf6b3b47b31a"
      },
      "execution_count": 7,
      "outputs": [
        {
          "output_type": "stream",
          "name": "stderr",
          "text": [
            "[nltk_data] Downloading package punkt to /root/nltk_data...\n",
            "[nltk_data]   Package punkt is already up-to-date!\n",
            "[nltk_data] Downloading package punkt_tab to /root/nltk_data...\n",
            "[nltk_data]   Unzipping tokenizers/punkt_tab.zip.\n"
          ]
        },
        {
          "output_type": "execute_result",
          "data": {
            "text/plain": [
              "True"
            ]
          },
          "metadata": {},
          "execution_count": 7
        }
      ]
    },
    {
      "cell_type": "code",
      "source": [
        "device = 'cuda' if torch.cuda.is_available() else 'cpu'\n",
        "device"
      ],
      "metadata": {
        "id": "adJC8ShFq9HM",
        "colab": {
          "base_uri": "https://localhost:8080/",
          "height": 36
        },
        "outputId": "d3103394-ac00-43ca-9911-316eaabc9d74"
      },
      "execution_count": 4,
      "outputs": [
        {
          "output_type": "execute_result",
          "data": {
            "text/plain": [
              "'cuda'"
            ],
            "application/vnd.google.colaboratory.intrinsic+json": {
              "type": "string"
            }
          },
          "metadata": {},
          "execution_count": 4
        }
      ]
    },
    {
      "cell_type": "markdown",
      "source": [
        "## Подготовка данных\n",
        "Для вашего удобства, мы привели код обработки датасета в ноутбуке. Ваша задача --- обучить модель, которая получит максимальное возможное качество на тестовой части."
      ],
      "metadata": {
        "id": "pwsfS1ENq5ig"
      }
    },
    {
      "cell_type": "code",
      "source": [
        "# Загрузим датасет\n",
        "dataset = datasets.load_dataset('ag_news')"
      ],
      "metadata": {
        "id": "qHLNWOfJqSfc",
        "colab": {
          "base_uri": "https://localhost:8080/",
          "height": 286,
          "referenced_widgets": [
            "e6f58bb35b4346439255de263afa84ba",
            "1e6772194a1740e983cd5a94fdd6d76b",
            "40143bfd209e42b3802560c843a92778",
            "a9d389d901cf41e19144a92222b27ab4",
            "5a8d81a73876498dba332eccd5c061d0",
            "acc411ddb88f42439f92b287a8b3b3ad",
            "12ab5415809b4035a42cc69f822a7ec7",
            "129ab5b7a292400baaef518e9f2e48d1",
            "e856801b3a0e4227a3251c348a3c6ad4",
            "20d806e4504c4b3889c5f6f77f15de24",
            "91d952e345cc4ba581e9b6e833ba0da1",
            "bd51ca9947cd41d687b679b50efe69e2",
            "f562f4b52df8457db7ae9f9bfb0a6c2c",
            "124baf0a74d44a12805d8183654ded6e",
            "86fba122b3d941f1bf178643be25a4e7",
            "5a3b2ec7620740f3a475f3b9b0b02be6",
            "c9343310dcf247f389ba586ab6f9ba20",
            "71be91093c6e453990c69e4e52729830",
            "769e0f3881854b25b01d4a01e99721cf",
            "b7258b2cb9da4675b823e6dd1ed6b020",
            "095ad8e2e86a4070b18c5f415b5272bb",
            "9d0640f30aa34ea49139f3df4d5663a5",
            "41568f45104d4ab68d92ce03a135883f",
            "b4db4f1c2ff6499b81b68556ab72043b",
            "6440b1ddc7c1485ea6a1e2e24ad078c3",
            "821e5fccecf64c7ab06f8b532438c9ca",
            "da7a16a2662e4cd79213f33df27e1a94",
            "b023732ecf034fcbb61af16410109bb7",
            "c9f6036c88234f6da60376dca99e68ad",
            "9aba985858b14cbfabbe628b16f8826a",
            "e704ccce35d24343962e3161921c9c28",
            "261d83fb1d134762b6d8486e49a3c034",
            "d794424e7f284809a3bd1b6b0c7bfc1d",
            "585139a2228542b5b423a685ab13943c",
            "0f855b102590448fb9a3b20451642eff",
            "23b90d902c6549c3b56481f43fae2648",
            "f67a7de6692c411bac37353fc9f02169",
            "8b19c5197a0349ecb2a570167d130dff",
            "cd23897b8bbb492cb36283ff03e61c00",
            "8d9750ed00984cd3a2dc2a81608ee7a0",
            "555028f794774280b8fbec8b766812da",
            "bba6fa472fd84dcf8738f0fb0cbe9c73",
            "8195ef7d3e504c06beb3e46f220d5e02",
            "fe418ec03efc4eed807be9a0d225deb2",
            "c3f22119e4394ab390f05019abb48082",
            "f0b57a76b8df4d09978a3aff7872110b",
            "a1f7704341e1470d95566b1bfd23fdb5",
            "a98db1f5b76f4e2aa683316f84127641",
            "d72eaf8ed5ad4ad49479382706d0589d",
            "90b2d30cc8b14e9d85d112ea086782fb",
            "c88ae52a858742c2805df13bb4740b4f",
            "3eb5c6d49d884614862e0a8c774c43d3",
            "4c362b237c104158888788bb9ff01eb7",
            "ca27659333d74ccbb68b1acd23fe0272",
            "31b876695c0840e29ef7caab7e7c48eb"
          ]
        },
        "outputId": "2cd8d39b-088c-4f9a-9126-925721542b5c"
      },
      "execution_count": 5,
      "outputs": [
        {
          "output_type": "stream",
          "name": "stderr",
          "text": [
            "/usr/local/lib/python3.11/dist-packages/huggingface_hub/utils/_auth.py:94: UserWarning: \n",
            "The secret `HF_TOKEN` does not exist in your Colab secrets.\n",
            "To authenticate with the Hugging Face Hub, create a token in your settings tab (https://huggingface.co/settings/tokens), set it as secret in your Google Colab and restart your session.\n",
            "You will be able to reuse this secret in all of your notebooks.\n",
            "Please note that authentication is recommended but still optional to access public models or datasets.\n",
            "  warnings.warn(\n"
          ]
        },
        {
          "output_type": "display_data",
          "data": {
            "text/plain": [
              "README.md:   0%|          | 0.00/8.07k [00:00<?, ?B/s]"
            ],
            "application/vnd.jupyter.widget-view+json": {
              "version_major": 2,
              "version_minor": 0,
              "model_id": "e6f58bb35b4346439255de263afa84ba"
            }
          },
          "metadata": {}
        },
        {
          "output_type": "display_data",
          "data": {
            "text/plain": [
              "train-00000-of-00001.parquet:   0%|          | 0.00/18.6M [00:00<?, ?B/s]"
            ],
            "application/vnd.jupyter.widget-view+json": {
              "version_major": 2,
              "version_minor": 0,
              "model_id": "bd51ca9947cd41d687b679b50efe69e2"
            }
          },
          "metadata": {}
        },
        {
          "output_type": "display_data",
          "data": {
            "text/plain": [
              "test-00000-of-00001.parquet:   0%|          | 0.00/1.23M [00:00<?, ?B/s]"
            ],
            "application/vnd.jupyter.widget-view+json": {
              "version_major": 2,
              "version_minor": 0,
              "model_id": "41568f45104d4ab68d92ce03a135883f"
            }
          },
          "metadata": {}
        },
        {
          "output_type": "display_data",
          "data": {
            "text/plain": [
              "Generating train split:   0%|          | 0/120000 [00:00<?, ? examples/s]"
            ],
            "application/vnd.jupyter.widget-view+json": {
              "version_major": 2,
              "version_minor": 0,
              "model_id": "585139a2228542b5b423a685ab13943c"
            }
          },
          "metadata": {}
        },
        {
          "output_type": "display_data",
          "data": {
            "text/plain": [
              "Generating test split:   0%|          | 0/7600 [00:00<?, ? examples/s]"
            ],
            "application/vnd.jupyter.widget-view+json": {
              "version_major": 2,
              "version_minor": 0,
              "model_id": "c3f22119e4394ab390f05019abb48082"
            }
          },
          "metadata": {}
        }
      ]
    },
    {
      "cell_type": "markdown",
      "source": [
        "Как и в семинаре, выполним следующие шаги:\n",
        "* Составим словарь\n",
        "* Создадим класс WordDataset\n",
        "* Выделим обучающую и тестовую часть, создадим DataLoader-ы."
      ],
      "metadata": {
        "id": "gYG67ZJj4hZS"
      }
    },
    {
      "cell_type": "code",
      "source": [
        "words = Counter()\n",
        "\n",
        "for example in tqdm(dataset['train']['text']):\n",
        "    # Приводим к нижнему регистру и убираем пунктуацию\n",
        "    prccessed_text = example.lower().translate(\n",
        "        str.maketrans('', '', string.punctuation))\n",
        "\n",
        "    for word in word_tokenize(prccessed_text):\n",
        "        words[word] += 1\n",
        "\n",
        "\n",
        "vocab = set(['<unk>', '<bos>', '<eos>', '<pad>'])\n",
        "counter_threshold = 25\n",
        "\n",
        "for char, cnt in words.items():\n",
        "    if cnt > counter_threshold:\n",
        "        vocab.add(char)\n",
        "\n",
        "print(f'Размер словаря: {len(vocab)}')\n",
        "\n",
        "word2ind = {char: i for i, char in enumerate(vocab)}\n",
        "ind2word = {i: char for char, i in word2ind.items()}"
      ],
      "metadata": {
        "id": "nEvCN0Y1w1yH",
        "colab": {
          "base_uri": "https://localhost:8080/",
          "height": 67,
          "referenced_widgets": [
            "2c5a88412c6a49328aa5df8a2079f215",
            "d136d827f7c4427aa8689b4c209d076d",
            "e83d015f2b774b79994735bd0e9af093",
            "4cd5120d71cf4b69b02c1114a933d767",
            "b4cec760884d4c6bba05b2f9b6640ecc",
            "94020b92fbdd420589d4befdd661aa35",
            "29a578bc4b3a497eb3bbf3df7d250efe",
            "112b8a41368b4a50a3706d5f78f1e31b",
            "843b8dcec9164d459f41f318c6acdfcf",
            "cf68107fbd7c454891c4438d163a9e8e",
            "ffda27f3652c4fb3a4de8fff4f5135ab"
          ]
        },
        "outputId": "a4742525-422f-47c0-c240-1b921184fd16"
      },
      "execution_count": 8,
      "outputs": [
        {
          "output_type": "display_data",
          "data": {
            "text/plain": [
              "  0%|          | 0/120000 [00:00<?, ?it/s]"
            ],
            "application/vnd.jupyter.widget-view+json": {
              "version_major": 2,
              "version_minor": 0,
              "model_id": "2c5a88412c6a49328aa5df8a2079f215"
            }
          },
          "metadata": {}
        },
        {
          "output_type": "stream",
          "name": "stdout",
          "text": [
            "Размер словаря: 11842\n"
          ]
        }
      ]
    },
    {
      "cell_type": "code",
      "source": [
        "class WordDataset:\n",
        "    def __init__(self, sentences):\n",
        "        self.data = sentences\n",
        "        self.unk_id = word2ind['<unk>']\n",
        "        self.bos_id = word2ind['<bos>']\n",
        "        self.eos_id = word2ind['<eos>']\n",
        "        self.pad_id = word2ind['<pad>']\n",
        "\n",
        "    def __getitem__(self, idx: int) -> List[int]:\n",
        "        processed_text = self.data[idx]['text'].lower().translate(\n",
        "            str.maketrans('', '', string.punctuation))\n",
        "        tokenized_sentence = [self.bos_id]\n",
        "        tokenized_sentence += [\n",
        "            word2ind.get(word, self.unk_id) for word in word_tokenize(processed_text)\n",
        "            ]\n",
        "        tokenized_sentence += [self.eos_id]\n",
        "\n",
        "        train_sample = {\n",
        "            \"text\": tokenized_sentence,\n",
        "            \"label\": self.data[idx]['label']\n",
        "        }\n",
        "\n",
        "        return train_sample\n",
        "\n",
        "    def __len__(self) -> int:\n",
        "        return len(self.data)\n",
        "\n",
        "\n",
        "def collate_fn_with_padding(\n",
        "    input_batch: List[List[int]], pad_id=word2ind['<pad>'], max_len=256) -> torch.Tensor:\n",
        "    seq_lens = [len(x['text']) for x in input_batch]\n",
        "    max_seq_len = min(max(seq_lens), max_len)\n",
        "\n",
        "    new_batch = []\n",
        "    for sequence in input_batch:\n",
        "        sequence['text'] = sequence['text'][:max_seq_len]\n",
        "        for _ in range(max_seq_len - len(sequence['text'])):\n",
        "            sequence['text'].append(pad_id)\n",
        "\n",
        "        new_batch.append(sequence['text'])\n",
        "\n",
        "    sequences = torch.LongTensor(new_batch).to(device)\n",
        "    labels = torch.LongTensor([x['label'] for x in input_batch]).to(device)\n",
        "\n",
        "    new_batch = {\n",
        "        'input_ids': sequences,\n",
        "        'label': labels\n",
        "    }\n",
        "\n",
        "    return new_batch"
      ],
      "metadata": {
        "id": "FVzXL17PzC7K"
      },
      "execution_count": 9,
      "outputs": []
    },
    {
      "cell_type": "code",
      "source": [
        "train_dataset = WordDataset(dataset['train'])\n",
        "\n",
        "np.random.seed(42)\n",
        "idx = np.random.choice(np.arange(len(dataset['test'])), 5000)\n",
        "eval_dataset = WordDataset(dataset['test'].select(idx))\n",
        "\n",
        "batch_size = 32\n",
        "train_dataloader = DataLoader(\n",
        "    train_dataset, shuffle=True, collate_fn=collate_fn_with_padding, batch_size=batch_size)\n",
        "\n",
        "eval_dataloader = DataLoader(\n",
        "    eval_dataset, shuffle=False, collate_fn=collate_fn_with_padding, batch_size=batch_size)"
      ],
      "metadata": {
        "id": "6xmeK9Ys1BIG"
      },
      "execution_count": 86,
      "outputs": []
    },
    {
      "cell_type": "markdown",
      "source": [
        "## Постановка задачи\n",
        "Ваша задача -- получить максимальное возможное accuracy на `eval_dataloader`. Ниже приведена функция, которую вам необходимо запустить для обученной модели, чтобы вычислить качество её работы."
      ],
      "metadata": {
        "id": "w7LHfh3u5Bie"
      }
    },
    {
      "cell_type": "code",
      "source": [
        "def evaluate(model, eval_dataloader) -> float:\n",
        "    \"\"\"\n",
        "    Calculate accuracy on validation dataloader.\n",
        "    \"\"\"\n",
        "\n",
        "    predictions = []\n",
        "    target = []\n",
        "    with torch.no_grad():\n",
        "        for batch in eval_dataloader:\n",
        "            logits = model(batch['input_ids'])\n",
        "            predictions.append(logits.argmax(dim=1))\n",
        "            target.append(batch['label'])\n",
        "\n",
        "    predictions = torch.cat(predictions)\n",
        "    target = torch.cat(target)\n",
        "    accuracy = (predictions == target).float().mean().item()\n",
        "\n",
        "    return accuracy"
      ],
      "metadata": {
        "id": "JDZw4Sehn4NE"
      },
      "execution_count": 11,
      "outputs": []
    },
    {
      "cell_type": "markdown",
      "source": [
        "## Ход работы\n",
        "Оценка за домашнее задание складывается из четырех частей:\n",
        "### Запуск базовой модели с семинара на новом датасете (1 балл)\n",
        "На семинаре мы создали модель, которая дает на нашей задаче довольно высокое качество. Ваша цель --- обучить ее и вычислить `score`, который затем можно будет использовать в качестве бейзлайна.\n",
        "\n",
        "В модели появится одно важное изменение: количество классов теперь равно не 2, а 4. Обратите на это внимание и найдите, что в коде создания модели нужно модифицировать, чтобы учесть это различие.\n",
        "\n",
        "### Проведение экспериментов по улучшению модели (2 балла за каждый эксперимент)\n",
        "Чтобы улучшить качество базовой модели, можно попробовать различные идеи экспериментов. Каждый выполненный эксперимент будет оцениваться в 2 балла. Для получения полного балла за этот пункт вам необходимо выполнить по крайней мере 2 эксперимента. Не расстраивайтесь, если какой-то эксперимент не дал вам прироста к качеству: он все равно зачтется, если выполнен корректно.\n",
        "\n",
        "Вот несколько идей экспериментов:\n",
        "* **Модель RNN**. Попробуйте другие нейросетевые модели --- LSTM и GRU. Мы советуем обратить внимание на [GRU](https://pytorch.org/docs/stable/generated/torch.nn.GRU.html), так как интерфейс этого класса ничем не отличается от обычной Vanilla RNN, которую мы использовали на семинаре.\n",
        "* **Увеличение количества рекуррентных слоев модели**. Это можно сделать с помощью параметра `num_layers` в классе `nn.RNN`. В такой модели выходы первой RNN передаются в качестве входов второй RNN и так далее.\n",
        "* **Изменение архитектуры после применения RNN**. В базовой модели используется агрегация со всех эмбеддингов. Возможно, вы захотите конкатенировать результат агрегации и эмбеддинг с последнего токена.\n",
        "* **Подбор гиперпараметров и обучение до сходимости**. Возможно, для получения более высокого качества просто необходимо увеличить количество эпох обучения нейросети, а также попробовать различные гиперпараметры: размер словаря, `dropout_rate`, `hidden_dim`.\n",
        "\n",
        "Обратите внимание, что главное правило проведения экспериментов --- необходимо совершать одно архитектурное изменение в одном эксперименте. Если вы совершите несколько изменений, то будет неясно, какое именно из изменений дало прирост к качеству.\n",
        "\n",
        "### Получение высокого качества (3 балла)\n",
        "В конце вашей работы вы должны указать, какая из моделей дала лучший результат, и вывести качество, которое дает лучшая модель, с помощью функции `evaluate`. Ваша модель будет оцениваться по метрике `accuracy` следующим образом:\n",
        "* $accuracy < 0.9$ --- 0 баллов;\n",
        "* $0.9 \\leqslant accuracy < 0.91$ --- 1 балл;\n",
        "* $0.91 \\leqslant accuracy < 0.915$ --- 2 балла;\n",
        "* $0.915 \\leqslant accuracy$ --- 3 балла.\n",
        "\n",
        "### Оформление отчета (2 балла)\n",
        "В конце работы подробно опишите все проведенные эксперименты.\n",
        "* Укажите, какие из экспериментов принесли улучшение, а какие --- нет.\n",
        "* Проанализируйте графики сходимости моделей в проведенных экспериментах. Являются ли колебания качества обученных моделей существенными в зависимости от эпохи обучения, или же сходимость стабильная?\n",
        "* Укажите, какая модель получилась оптимальной.\n",
        "\n",
        "Желаем удачи!"
      ],
      "metadata": {
        "id": "SMAexY7Y45E4"
      }
    },
    {
      "cell_type": "markdown",
      "source": [
        "# 1. Запуск базовой модели с семинара"
      ],
      "metadata": {
        "id": "GAcYpyyCUwaf"
      }
    },
    {
      "cell_type": "markdown",
      "source": [
        "## 1.1 Вспомогательные функции"
      ],
      "metadata": {
        "id": "Wo48iGppU01e"
      }
    },
    {
      "cell_type": "code",
      "source": [
        "class CharLM(nn.Module):\n",
        "    def __init__(\n",
        "        self, hidden_dim: int, vocab_size: int, num_classes: int = 4,\n",
        "        aggregation_type: str = 'max'\n",
        "        ):\n",
        "        super().__init__()\n",
        "        self.embedding = nn.Embedding(vocab_size, hidden_dim)\n",
        "        self.rnn = nn.RNN(hidden_dim, hidden_dim, batch_first=True)\n",
        "        self.linear = nn.Linear(hidden_dim, hidden_dim)\n",
        "        self.projection = nn.Linear(hidden_dim, num_classes)\n",
        "\n",
        "        self.non_lin = nn.Tanh()\n",
        "        self.dropout = nn.Dropout(p=0.1)\n",
        "        self.aggregation_type = aggregation_type\n",
        "\n",
        "    def forward(self, input_batch) -> torch.Tensor:\n",
        "        embeddings = self.embedding(input_batch)  # [batch_size, seq_len, hidden_dim]\n",
        "        output, _ = self.rnn(embeddings)  # [batch_size, seq_len, hidden_dim]\n",
        "\n",
        "        if self.aggregation_type == 'max':\n",
        "            output = output.max(dim=1)[0] #[batch_size, hidden_dim]\n",
        "        elif self.aggregation_type == 'mean':\n",
        "            output = output.mean(dim=1) #[batch_size, hidden_dim]\n",
        "        else:\n",
        "            raise ValueError(\"Invalid aggregation_type\")\n",
        "\n",
        "        output = self.dropout(self.linear(self.non_lin(output)))  # [batch_size, hidden_dim]\n",
        "        prediction = self.projection(self.non_lin(output))  # [batch_size, num_classes]\n",
        "\n",
        "        return prediction"
      ],
      "metadata": {
        "id": "4Qr5CP7RU1im"
      },
      "execution_count": 62,
      "outputs": []
    },
    {
      "cell_type": "code",
      "source": [
        "import torch\n",
        "import torch.nn as nn\n",
        "from tqdm import tqdm\n",
        "\n",
        "def training(model, train_dataloader, eval_dataloader, num_epochs: int = 5):\n",
        "    torch.manual_seed(42)\n",
        "\n",
        "    criterion = nn.CrossEntropyLoss()\n",
        "    optimizer = torch.optim.Adam(model.parameters())\n",
        "\n",
        "    losses = []\n",
        "    acc = []\n",
        "\n",
        "    for epoch in range(num_epochs):\n",
        "        model.train()\n",
        "        epoch_losses = []\n",
        "        eval_steps = max(1, len(train_dataloader) // 2)\n",
        "\n",
        "        for i, batch in enumerate(tqdm(train_dataloader, desc=f'Epoch {epoch}')):\n",
        "            optimizer.zero_grad()\n",
        "            logits = model(batch['input_ids'])\n",
        "            loss = criterion(logits, batch['label'])\n",
        "            loss.backward()\n",
        "            optimizer.step()\n",
        "\n",
        "            epoch_losses.append(loss.item())\n",
        "\n",
        "            if i % eval_steps == 0:\n",
        "                model.eval()\n",
        "                acc.append(evaluate(model, eval_dataloader))\n",
        "                model.train()\n",
        "\n",
        "        losses.append(sum(epoch_losses) / len(epoch_losses))\n",
        "\n",
        "    return losses, acc"
      ],
      "metadata": {
        "id": "P0O45hdUU-Qc"
      },
      "execution_count": 63,
      "outputs": []
    },
    {
      "cell_type": "code",
      "source": [
        "import numpy as np\n",
        "import matplotlib.pyplot as plt\n",
        "from typing import Dict, List\n",
        "import seaborn as sns\n",
        "\n",
        "def plotting(losses: Dict[str, List[float]], acc: Dict[str, List[float]]):\n",
        "    sns.set_style(\"whitegrid\")\n",
        "    num_experiments = len(losses)\n",
        "    colors = sns.color_palette(\"tab10\", num_experiments)\n",
        "\n",
        "    fig, axes = plt.subplots(1, 2, figsize=(14, 5))\n",
        "\n",
        "    # Plot Losses\n",
        "    for (name, values), color in zip(losses.items(), colors):\n",
        "        epochs = np.arange(len(values))\n",
        "        axes[0].plot(epochs, values, color=color, label=name, marker='o', alpha=0.7)\n",
        "\n",
        "        # Show only key values to avoid clutter\n",
        "        for x in [0, len(values) // 2, len(values) - 1]:\n",
        "            axes[0].text(x, values[x], f\"{values[x]:.3f}\", fontsize=10, ha='center', va='bottom')\n",
        "\n",
        "    axes[0].set_title('Loss per Epoch', fontsize=14)\n",
        "    axes[0].set_xlabel(\"Epoch\", fontsize=12)\n",
        "    axes[0].set_ylabel(\"Loss\", fontsize=12)\n",
        "    axes[0].legend(fontsize=10)\n",
        "    axes[0].grid(True)\n",
        "\n",
        "    # Plot Accuracy\n",
        "    for (name, values), color in zip(acc.items(), colors):\n",
        "        epochs = np.arange(len(values))\n",
        "        axes[1].plot(epochs, values, color=color, label=name, marker='s', alpha=0.7)\n",
        "\n",
        "        # Show only key values\n",
        "        for x in [0, len(values) // 2, len(values) - 1]:\n",
        "            axes[1].text(x, values[x], f\"{values[x]:.3f}\", fontsize=10, ha='center', va='bottom')\n",
        "\n",
        "        print(f\"Best accuracy for {name}: {max(values) * 100:.2f}%\")\n",
        "\n",
        "    # Adjust y-limits for better readability\n",
        "    min_acc = min(min(v) for v in acc.values()) - 0.01\n",
        "    max_acc = max(max(v) for v in acc.values()) + 0.01\n",
        "    axes[1].set_ylim(max(0.8, min_acc), min(1.0, max_acc))\n",
        "\n",
        "    axes[1].set_title('Accuracy per Epoch', fontsize=14)\n",
        "    axes[1].set_xlabel(\"Epoch\", fontsize=12)\n",
        "    axes[1].set_ylabel(\"Accuracy\", fontsize=12)\n",
        "    axes[1].legend(fontsize=10)\n",
        "    axes[1].grid(True)\n",
        "\n",
        "    plt.tight_layout()\n",
        "    plt.show()\n"
      ],
      "metadata": {
        "id": "alxNdqBDWZBA"
      },
      "execution_count": 104,
      "outputs": []
    },
    {
      "cell_type": "markdown",
      "source": [
        "## 1.2 Обучение и результаты"
      ],
      "metadata": {
        "id": "MqQ3-O55Ww7O"
      }
    },
    {
      "cell_type": "code",
      "source": [
        "losses_type = {}\n",
        "acc_type = {}\n",
        "for aggregation_type in ['max', 'mean']:\n",
        "    print(f'Starting for {aggregation_type}')\n",
        "    model = CharLM(hidden_dim=256, vocab_size=len(vocab), aggregation_type=aggregation_type).to(device)\n",
        "    losses_type[aggregation_type], acc_type[aggregation_type] = training(model=model, train_dataloader=train_dataloader, eval_dataloader=eval_dataloader, num_epochs=6)"
      ],
      "metadata": {
        "colab": {
          "base_uri": "https://localhost:8080/"
        },
        "id": "MPfIn-08WxmQ",
        "outputId": "90b4d075-f579-4042-f96a-d2b532215d48"
      },
      "execution_count": 65,
      "outputs": [
        {
          "output_type": "stream",
          "name": "stdout",
          "text": [
            "Starting for max\n"
          ]
        },
        {
          "output_type": "stream",
          "name": "stderr",
          "text": [
            "Epoch 0: 100%|██████████| 3750/3750 [01:03<00:00, 59.27it/s]\n",
            "Epoch 1: 100%|██████████| 3750/3750 [01:03<00:00, 58.99it/s]\n",
            "Epoch 2: 100%|██████████| 3750/3750 [01:03<00:00, 58.93it/s]\n",
            "Epoch 3: 100%|██████████| 3750/3750 [01:03<00:00, 58.64it/s]\n",
            "Epoch 4: 100%|██████████| 3750/3750 [01:04<00:00, 58.46it/s]\n",
            "Epoch 5: 100%|██████████| 3750/3750 [01:03<00:00, 59.12it/s]\n"
          ]
        },
        {
          "output_type": "stream",
          "name": "stdout",
          "text": [
            "Starting for mean\n"
          ]
        },
        {
          "output_type": "stream",
          "name": "stderr",
          "text": [
            "Epoch 0: 100%|██████████| 3750/3750 [01:05<00:00, 56.99it/s]\n",
            "Epoch 1: 100%|██████████| 3750/3750 [01:05<00:00, 56.83it/s]\n",
            "Epoch 2: 100%|██████████| 3750/3750 [01:06<00:00, 56.69it/s]\n",
            "Epoch 3: 100%|██████████| 3750/3750 [01:03<00:00, 59.07it/s]\n",
            "Epoch 4: 100%|██████████| 3750/3750 [01:03<00:00, 59.32it/s]\n",
            "Epoch 5: 100%|██████████| 3750/3750 [01:04<00:00, 58.48it/s]\n"
          ]
        }
      ]
    },
    {
      "cell_type": "code",
      "source": [
        "plotting(losses_type, acc_type)"
      ],
      "metadata": {
        "colab": {
          "base_uri": "https://localhost:8080/",
          "height": 538
        },
        "id": "hung8pckXE9R",
        "outputId": "23ed9454-49b7-46e2-8cdf-6170d363945a"
      },
      "execution_count": 66,
      "outputs": [
        {
          "output_type": "stream",
          "name": "stdout",
          "text": [
            "Best accuracy for max: 90.98%\n",
            "Best accuracy for mean: 90.58%\n"
          ]
        },
        {
          "output_type": "display_data",
          "data": {
            "text/plain": [
              "<Figure size 1400x500 with 2 Axes>"
            ],
            "image/png": "[encoded data removed]"
          },
          "metadata": {}
        }
      ]
    },
    {
      "cell_type": "markdown",
      "source": [
        "# 2. Эксперименты"
      ],
      "metadata": {
        "id": "zRVWYRfBc1iI"
      }
    },
    {
      "cell_type": "markdown",
      "source": [
        "Кастомизируем модель и training loop"
      ],
      "metadata": {
        "id": "u5Ori02pjW6V"
      }
    },
    {
      "cell_type": "code",
      "source": [
        "import torch\n",
        "import torch.nn as nn\n",
        "import torch.nn.functional as F\n",
        "\n",
        "class CharLM(nn.Module):\n",
        "    def __init__(\n",
        "        self, hidden_dim: int, vocab_size: int, num_classes: int = 4,\n",
        "        rnn_type: str = 'LSTM', bidirectional: bool = True,\n",
        "        aggregation_type: str = 'attention', num_rnn_layers: int = 2,\n",
        "        p_dropout: float = 0.1, batch_norm: bool = False\n",
        "    ):\n",
        "        super().__init__()\n",
        "\n",
        "        self.embedding = nn.Embedding(vocab_size, hidden_dim)\n",
        "        self.p_dropout = p_dropout\n",
        "        self.batch_norm = batch_norm\n",
        "\n",
        "        # Choose RNN type (LSTM, GRU, RNN)\n",
        "        rnn_class = {'LSTM': nn.LSTM, 'GRU': nn.GRU, 'RNN': nn.RNN}[rnn_type]\n",
        "        self.rnn = rnn_class(\n",
        "            hidden_dim, hidden_dim, batch_first=True, num_layers=num_rnn_layers, bidirectional=bidirectional\n",
        "        )\n",
        "\n",
        "        self.aggregation_type = aggregation_type\n",
        "        self.hidden_dim = hidden_dim * (2 if bidirectional else 1)\n",
        "\n",
        "        if aggregation_type == 'attention':\n",
        "            self.attention = nn.Linear(self.hidden_dim, 1)  # Attention mechanism\n",
        "        elif aggregation_type not in ['max', 'mean']:\n",
        "            raise ValueError(\"Invalid aggregation_type\")\n",
        "\n",
        "        self.linear = nn.Linear(self.hidden_dim, self.hidden_dim)\n",
        "        self.projection = nn.Linear(self.hidden_dim, num_classes)\n",
        "\n",
        "        self.non_lin = nn.ReLU()\n",
        "        self.dropout = nn.Dropout(p=self.p_dropout)\n",
        "        self.layer_norm = nn.LayerNorm(self.hidden_dim)\n",
        "\n",
        "    def forward(self, input_batch) -> torch.Tensor:\n",
        "        embeddings = self.embedding(input_batch)  # [batch_size, seq_len, hidden_dim]\n",
        "        output, _ = self.rnn(embeddings)  # [batch_size, seq_len, hidden_dim * num_directions]\n",
        "\n",
        "        if self.aggregation_type == 'max':\n",
        "            output = output.max(dim=1)[0]  # [batch_size, hidden_dim]\n",
        "        elif self.aggregation_type == 'mean':\n",
        "            output = output.mean(dim=1)  # [batch_size, hidden_dim]\n",
        "        elif self.aggregation_type == 'attention':\n",
        "            attn_weights = torch.tanh(self.attention(output))  # [batch_size, seq_len, 1]\n",
        "            attn_weights = F.softmax(attn_weights, dim=1)\n",
        "            output = torch.sum(output * attn_weights, dim=1)  # Weighted sum\n",
        "        else:\n",
        "            raise ValueError(\"Invalid aggregation_type\")\n",
        "\n",
        "        output = self.linear(self.non_lin(output))\n",
        "        if self.batch_norm:\n",
        "          output = self.layer_norm(output)\n",
        "        output = self.dropout(output)\n",
        "        prediction = self.projection(self.non_lin(output))  # [batch_size, num_classes]\n",
        "\n",
        "        return prediction\n"
      ],
      "metadata": {
        "id": "NxYs8tlCixtV"
      },
      "execution_count": 80,
      "outputs": []
    },
    {
      "cell_type": "code",
      "source": [
        "import torch\n",
        "import torch.nn as nn\n",
        "import torch.optim as optim\n",
        "from tqdm import tqdm\n",
        "\n",
        "def training(\n",
        "    model, train_dataloader, eval_dataloader, num_epochs: int = 5,\n",
        "    patience: int = 3, grad_accum_steps: int = 1, use_amp: bool = True\n",
        "):\n",
        "    torch.manual_seed(42)\n",
        "\n",
        "    criterion = nn.CrossEntropyLoss()\n",
        "    optimizer = optim.AdamW(model.parameters(), lr=3e-4, weight_decay=1e-2)\n",
        "    scheduler = optim.lr_scheduler.ReduceLROnPlateau(optimizer, mode='min', factor=0.5, patience=2)\n",
        "\n",
        "    scaler = torch.amp.GradScaler(device) if use_amp else None\n",
        "    losses, acc = [], []\n",
        "    best_val_loss = float(\"inf\")\n",
        "    early_stop_counter = 0\n",
        "\n",
        "    for epoch in range(num_epochs):\n",
        "        model.train()\n",
        "        epoch_losses = []\n",
        "        eval_steps = max(1, len(train_dataloader) // 2)\n",
        "\n",
        "        optimizer.zero_grad()\n",
        "\n",
        "        for i, batch in enumerate(tqdm(train_dataloader, desc=f'Epoch {epoch}')):\n",
        "            with torch.amp.autocast(device, enabled=use_amp):\n",
        "                logits = model(batch['input_ids'])\n",
        "                loss = criterion(logits, batch['label']) / grad_accum_steps\n",
        "\n",
        "            if use_amp:\n",
        "                scaler.scale(loss).backward()\n",
        "            else:\n",
        "                loss.backward()\n",
        "\n",
        "            if (i + 1) % grad_accum_steps == 0 or i == len(train_dataloader) - 1:\n",
        "                if use_amp:\n",
        "                    scaler.step(optimizer)\n",
        "                    scaler.update()\n",
        "                else:\n",
        "                    optimizer.step()\n",
        "                optimizer.zero_grad()\n",
        "\n",
        "            epoch_losses.append(loss.item() * grad_accum_steps)\n",
        "\n",
        "            if i % eval_steps == 0:\n",
        "                model.eval()\n",
        "                val_loss = evaluate(model, eval_dataloader)\n",
        "                acc.append(val_loss)\n",
        "                model.train()\n",
        "\n",
        "        avg_epoch_loss = sum(epoch_losses) / len(epoch_losses)\n",
        "        losses.append(avg_epoch_loss)\n",
        "        scheduler.step(avg_epoch_loss)\n",
        "\n",
        "        # Early Stopping\n",
        "        if avg_epoch_loss < best_val_loss:\n",
        "            best_val_loss = avg_epoch_loss\n",
        "            early_stop_counter = 0\n",
        "        else:\n",
        "            early_stop_counter += 1\n",
        "\n",
        "        if early_stop_counter >= patience:\n",
        "            print(f\"Early stopping at epoch {epoch}\")\n",
        "            break\n",
        "\n",
        "    return losses, acc\n"
      ],
      "metadata": {
        "id": "JcDHs84Rix2C"
      },
      "execution_count": 98,
      "outputs": []
    },
    {
      "cell_type": "markdown",
      "source": [
        "## 2.1 Модель RNN. Использование GRU"
      ],
      "metadata": {
        "id": "L5aeAhnec64K"
      }
    },
    {
      "cell_type": "code",
      "source": [
        "losses_type = {}\n",
        "acc_type = {}\n",
        "for aggregation_type in ['max', 'mean']:\n",
        "    print(f'Starting for {aggregation_type}')\n",
        "    model = CharLM(\n",
        "        hidden_dim=256,\n",
        "        vocab_size=len(vocab),\n",
        "        aggregation_type=aggregation_type,\n",
        "        rnn_type='GRU',\n",
        "        bidirectional=False,\n",
        "        num_rnn_layers=1,\n",
        "        p_dropout=0.1,\n",
        "        batch_norm=False\n",
        "    ).to(device)\n",
        "    losses_type[aggregation_type], acc_type[aggregation_type] = training(model=model, train_dataloader=train_dataloader, eval_dataloader=eval_dataloader, num_epochs=6)"
      ],
      "metadata": {
        "colab": {
          "base_uri": "https://localhost:8080/"
        },
        "id": "ddXNb-fcjIPj",
        "outputId": "8131e13e-d2d0-4843-8a7e-724b123c7aee"
      },
      "execution_count": 81,
      "outputs": [
        {
          "output_type": "stream",
          "name": "stdout",
          "text": [
            "Starting for max\n"
          ]
        },
        {
          "output_type": "stream",
          "name": "stderr",
          "text": [
            "Epoch 0: 100%|██████████| 3750/3750 [01:17<00:00, 48.17it/s]\n",
            "Epoch 1: 100%|██████████| 3750/3750 [01:18<00:00, 48.03it/s]\n",
            "Epoch 2: 100%|██████████| 3750/3750 [01:16<00:00, 49.06it/s]\n",
            "Epoch 3: 100%|██████████| 3750/3750 [01:16<00:00, 48.80it/s]\n",
            "Epoch 4: 100%|██████████| 3750/3750 [01:18<00:00, 47.87it/s]\n",
            "Epoch 5: 100%|██████████| 3750/3750 [01:17<00:00, 48.48it/s]\n"
          ]
        },
        {
          "output_type": "stream",
          "name": "stdout",
          "text": [
            "Starting for mean\n"
          ]
        },
        {
          "output_type": "stream",
          "name": "stderr",
          "text": [
            "Epoch 0: 100%|██████████| 3750/3750 [01:17<00:00, 48.64it/s]\n",
            "Epoch 1: 100%|██████████| 3750/3750 [01:17<00:00, 48.62it/s]\n",
            "Epoch 2: 100%|██████████| 3750/3750 [01:18<00:00, 48.03it/s]\n",
            "Epoch 3: 100%|██████████| 3750/3750 [01:17<00:00, 48.65it/s]\n",
            "Epoch 4: 100%|██████████| 3750/3750 [01:18<00:00, 47.99it/s]\n",
            "Epoch 5: 100%|██████████| 3750/3750 [01:16<00:00, 48.71it/s]\n"
          ]
        }
      ]
    },
    {
      "cell_type": "code",
      "source": [
        "plotting(losses_type, acc_type)"
      ],
      "metadata": {
        "colab": {
          "base_uri": "https://localhost:8080/",
          "height": 538
        },
        "id": "-9OYe0bIn9hh",
        "outputId": "7791fefd-245a-4d1a-a972-a82262c6d669"
      },
      "execution_count": 82,
      "outputs": [
        {
          "output_type": "stream",
          "name": "stdout",
          "text": [
            "Best accuracy for max: 91.30%\n",
            "Best accuracy for mean: 91.08%\n"
          ]
        },
        {
          "output_type": "display_data",
          "data": {
            "text/plain": [
              "<Figure size 1400x500 with 2 Axes>"
            ],
            "image/png": "[encoded data removed]"
          },
          "metadata": {}
        }
      ]
    },
    {
      "cell_type": "markdown",
      "source": [
        "Видим, что GRU модель дает выше качество."
      ],
      "metadata": {
        "id": "CY_JS06N2fqa"
      }
    },
    {
      "cell_type": "markdown",
      "source": [
        "## 2.2 Увеличение количества рекуррентных слоев модели"
      ],
      "metadata": {
        "id": "8JFBAxg-dU-e"
      }
    },
    {
      "cell_type": "code",
      "source": [
        "losses_type = {}\n",
        "acc_type = {}\n",
        "for aggregation_type in ['max', 'mean']:\n",
        "    print(f'Starting for {aggregation_type}')\n",
        "    model = CharLM(\n",
        "        hidden_dim=256,\n",
        "        vocab_size=len(vocab),\n",
        "        aggregation_type=aggregation_type,\n",
        "        rnn_type='GRU',\n",
        "        bidirectional=False,\n",
        "        num_rnn_layers=2,\n",
        "    ).to(device)\n",
        "    losses_type[aggregation_type], acc_type[aggregation_type] = training(model=model, train_dataloader=train_dataloader, eval_dataloader=eval_dataloader, num_epochs=6)"
      ],
      "metadata": {
        "colab": {
          "base_uri": "https://localhost:8080/"
        },
        "id": "C10B2anadiAa",
        "outputId": "11e61e68-b5db-4f28-9f41-c6d0befc7e51"
      },
      "execution_count": 83,
      "outputs": [
        {
          "output_type": "stream",
          "name": "stdout",
          "text": [
            "Starting for max\n"
          ]
        },
        {
          "output_type": "stream",
          "name": "stderr",
          "text": [
            "Epoch 0: 100%|██████████| 3750/3750 [01:30<00:00, 41.21it/s]\n",
            "Epoch 1: 100%|██████████| 3750/3750 [01:29<00:00, 41.73it/s]\n",
            "Epoch 2: 100%|██████████| 3750/3750 [01:30<00:00, 41.40it/s]\n",
            "Epoch 3: 100%|██████████| 3750/3750 [01:29<00:00, 41.93it/s]\n",
            "Epoch 4: 100%|██████████| 3750/3750 [01:29<00:00, 41.87it/s]\n",
            "Epoch 5: 100%|██████████| 3750/3750 [01:30<00:00, 41.49it/s]\n"
          ]
        },
        {
          "output_type": "stream",
          "name": "stdout",
          "text": [
            "Starting for mean\n"
          ]
        },
        {
          "output_type": "stream",
          "name": "stderr",
          "text": [
            "Epoch 0: 100%|██████████| 3750/3750 [01:31<00:00, 40.99it/s]\n",
            "Epoch 1: 100%|██████████| 3750/3750 [01:34<00:00, 39.59it/s]\n",
            "Epoch 2: 100%|██████████| 3750/3750 [01:33<00:00, 39.95it/s]\n",
            "Epoch 3: 100%|██████████| 3750/3750 [01:30<00:00, 41.51it/s]\n",
            "Epoch 4: 100%|██████████| 3750/3750 [01:30<00:00, 41.64it/s]\n",
            "Epoch 5: 100%|██████████| 3750/3750 [01:31<00:00, 41.06it/s]\n"
          ]
        }
      ]
    },
    {
      "cell_type": "code",
      "source": [
        "plotting(losses_type, acc_type)"
      ],
      "metadata": {
        "colab": {
          "base_uri": "https://localhost:8080/",
          "height": 538
        },
        "id": "r68YV1iQdnYy",
        "outputId": "302b5cfa-4a55-46e9-f37e-acc28eaffec5"
      },
      "execution_count": 84,
      "outputs": [
        {
          "output_type": "stream",
          "name": "stdout",
          "text": [
            "Best accuracy for max: 90.68%\n",
            "Best accuracy for mean: 91.40%\n"
          ]
        },
        {
          "output_type": "display_data",
          "data": {
            "text/plain": [
              "<Figure size 1400x500 with 2 Axes>"
            ],
            "image/png": "[encoded data removed]"
          },
          "metadata": {}
        }
      ]
    },
    {
      "cell_type": "markdown",
      "source": [
        "Количество RNN слоев положительно повлияло на качество в случае mean агрегации."
      ],
      "metadata": {
        "id": "O_TCPaA49HEg"
      }
    },
    {
      "cell_type": "markdown",
      "source": [
        "## 2.3 Изменение архитектуры после применения RNN. Изменим метод агрегации на attention, тип рекурентной сети на bi-LSTM."
      ],
      "metadata": {
        "id": "dZGY89Jbeo_s"
      }
    },
    {
      "cell_type": "code",
      "source": [
        "losses_type = {}\n",
        "acc_type = {}\n",
        "for aggregation_type in ['max', 'mean', 'attention']:\n",
        "    print(f'Starting for {aggregation_type}')\n",
        "    model = CharLM(\n",
        "        hidden_dim=256,\n",
        "        vocab_size=len(vocab),\n",
        "        aggregation_type=aggregation_type,\n",
        "        rnn_type='LSTM',\n",
        "        bidirectional=True,\n",
        "        num_rnn_layers=2,\n",
        "    ).to(device)\n",
        "    losses_type[aggregation_type], acc_type[aggregation_type] = training(model=model, train_dataloader=train_dataloader, eval_dataloader=eval_dataloader, num_epochs=10)"
      ],
      "metadata": {
        "colab": {
          "base_uri": "https://localhost:8080/"
        },
        "id": "ngAPWS6FeoNJ",
        "outputId": "2f799019-4a52-4f56-ee30-54de4a58ef64"
      },
      "execution_count": null,
      "outputs": [
        {
          "output_type": "stream",
          "name": "stdout",
          "text": [
            "Starting for max\n"
          ]
        },
        {
          "output_type": "stream",
          "name": "stderr",
          "text": [
            "Epoch 0:  47%|████▋     | 28/59 [00:32<00:35,  1.15s/it]"
          ]
        }
      ]
    },
    {
      "cell_type": "code",
      "source": [
        "plotting(losses_type, acc_type)"
      ],
      "metadata": {
        "id": "XmqKYoUZB1V0",
        "outputId": "4264917b-551b-485c-d78e-934a3a57b4a8",
        "colab": {
          "base_uri": "https://localhost:8080/",
          "height": 1000
        }
      },
      "execution_count": 105,
      "outputs": [
        {
          "output_type": "stream",
          "name": "stdout",
          "text": [
            "Best accuracy for max: 90.24%\n",
            "Best accuracy for mean: 88.92%\n",
            "Best accuracy for attention: 89.76%\n"
          ]
        },
        {
          "output_type": "stream",
          "name": "stderr",
          "text": [
            "<ipython-input-104-f69673ce9397>:50: UserWarning: Tight layout not applied. The bottom and top margins cannot be made large enough to accommodate all Axes decorations.\n",
            "  plt.tight_layout()\n"
          ]
        },
        {
          "output_type": "display_data",
          "data": {
            "text/plain": [
              "<Figure size 1400x500 with 2 Axes>"
            ],
            "image/png": "[encoded data removed]"
          },
          "metadata": {}
        }
      ]
    },
    {
      "cell_type": "markdown",
      "source": [
        "## 2.4 Подбор гиперпараметров и обучение до сходимости"
      ],
      "metadata": {
        "id": "O4JyCq-CdrYA"
      }
    },
    {
      "cell_type": "markdown",
      "source": [
        "Возьмем размер батча побольше"
      ],
      "metadata": {
        "id": "JdkmO7pi8wrV"
      }
    },
    {
      "cell_type": "code",
      "source": [
        "batch_size = 2048\n",
        "train_dataloader = DataLoader(\n",
        "    train_dataset, shuffle=True, collate_fn=collate_fn_with_padding, batch_size=batch_size)\n",
        "\n",
        "eval_dataloader = DataLoader(\n",
        "    eval_dataset, shuffle=False, collate_fn=collate_fn_with_padding, batch_size=batch_size)"
      ],
      "metadata": {
        "id": "ExA2oHY87Vku"
      },
      "execution_count": 89,
      "outputs": []
    },
    {
      "cell_type": "markdown",
      "source": [
        "Запустим оптимизацию параметров"
      ],
      "metadata": {
        "id": "hxs3612U9O8W"
      }
    },
    {
      "cell_type": "code",
      "source": [
        "import optuna\n",
        "import torch\n",
        "import torch.nn as nn\n",
        "import torch.optim as optim\n",
        "from torch.utils.data import DataLoader\n",
        "\n",
        "def objective(trial):\n",
        "    hidden_dim = trial.suggest_int(\"hidden_dim\", 64, 512, step=64)\n",
        "    rnn_type = trial.suggest_categorical(\"rnn_type\", [\"LSTM\", \"GRU\", \"RNN\"])\n",
        "    bidirectional = trial.suggest_categorical(\"bidirectional\", [True, False])\n",
        "    aggregation_type = trial.suggest_categorical(\"aggregation_type\", [\"attention\", \"max\", \"mean\"])\n",
        "    num_rnn_layers = trial.suggest_int(\"num_rnn_layers\", 1, 4)\n",
        "    lr = trial.suggest_loguniform(\"lr\", 1e-5, 1e-3)\n",
        "    weight_decay = trial.suggest_loguniform(\"weight_decay\", 1e-5, 1e-2)\n",
        "    dropout_rate = trial.suggest_uniform(\"dropout_rate\", 0.0, 0.5)\n",
        "    batch_norm = trial.suggest_categorical(\"batch_norm\", [True, False])\n",
        "\n",
        "    model = CharLM(\n",
        "        hidden_dim=hidden_dim,\n",
        "        vocab_size=len(vocab),\n",
        "        num_classes=4,\n",
        "        rnn_type=rnn_type,\n",
        "        bidirectional=bidirectional,\n",
        "        aggregation_type=aggregation_type,\n",
        "        num_rnn_layers=num_rnn_layers,\n",
        "        p_dropout=dropout_rate,\n",
        "        batch_norm=batch_norm\n",
        "    )\n",
        "\n",
        "    criterion = nn.CrossEntropyLoss()\n",
        "    optimizer = optim.AdamW(model.parameters(), lr=lr, weight_decay=weight_decay)\n",
        "\n",
        "    losses, acc = training(model, train_dataloader, eval_dataloader, num_epochs=10)\n",
        "\n",
        "    return min(losses)\n",
        "\n",
        "# Run optimization\n",
        "study = optuna.create_study(direction=\"minimize\")\n",
        "study.optimize(objective, n_trials=10)\n",
        "\n",
        "# Print best parameters\n",
        "print(\"Best parameters:\", study.best_params)"
      ],
      "metadata": {
        "id": "_EAXjnuVdtF5"
      },
      "execution_count": null,
      "outputs": []
    },
    {
      "cell_type": "markdown",
      "source": [
        "В конце работы подробно опишите все проведенные эксперименты.\n",
        "\n",
        "Укажите, какие из экспериментов принесли улучшение, а какие --- нет.\n",
        "Проанализируйте графики сходимости моделей в проведенных экспериментах. Являются ли колебания качества обученных моделей существенными в зависимости от эпохи обучения, или же сходимость стабильная?\n",
        "Укажите, какая модель получилась оптимальной."
      ],
      "metadata": {
        "id": "K2usEBPK9w9q"
      }
    },
    {
      "cell_type": "markdown",
      "source": [
        "Проведены следующие эксперименты\n",
        "1. Vanila RNN\n",
        "2. GRU\n",
        "3. GRU x 2\n",
        "4. Bi-LSTM x 2\n",
        "5. Поиск по сетке параметров\n",
        "\n",
        "Что дало улучшение:\n",
        "* Использование GRU\n",
        "* Большее кол-во эпох"
      ],
      "metadata": {
        "id": "vfPTyTUX96Qq"
      }
    }
  ]
}